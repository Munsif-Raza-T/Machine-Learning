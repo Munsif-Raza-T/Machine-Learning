{
 "cells": [
  {
   "cell_type": "code",
   "execution_count": 1,
   "id": "310c3054",
   "metadata": {},
   "outputs": [],
   "source": [
    "# Importing Libraries\n",
    "\n",
    "import numpy as np\n",
    "import pandas as pd\n",
    "import scipy.stats as stats \n",
    "from matplotlib import pyplot as plt\n",
    "%matplotlib inline\n",
    "from sklearn.preprocessing import StandardScaler"
   ]
  },
  {
   "cell_type": "markdown",
   "id": "7815ea38",
   "metadata": {},
   "source": [
    "## Data Loading"
   ]
  },
  {
   "cell_type": "code",
   "execution_count": 3,
   "id": "8d484ca8",
   "metadata": {},
   "outputs": [],
   "source": [
    "# Reading data\n",
    "\n",
    "data = pd.read_csv('as1-bank.csv')"
   ]
  },
  {
   "cell_type": "code",
   "execution_count": 4,
   "id": "bc1351a4",
   "metadata": {},
   "outputs": [
    {
     "data": {
      "text/html": [
       "<div>\n",
       "<style scoped>\n",
       "    .dataframe tbody tr th:only-of-type {\n",
       "        vertical-align: middle;\n",
       "    }\n",
       "\n",
       "    .dataframe tbody tr th {\n",
       "        vertical-align: top;\n",
       "    }\n",
       "\n",
       "    .dataframe thead th {\n",
       "        text-align: right;\n",
       "    }\n",
       "</style>\n",
       "<table border=\"1\" class=\"dataframe\">\n",
       "  <thead>\n",
       "    <tr style=\"text-align: right;\">\n",
       "      <th></th>\n",
       "      <th>age</th>\n",
       "      <th>marital</th>\n",
       "      <th>education</th>\n",
       "      <th>default</th>\n",
       "      <th>balance</th>\n",
       "      <th>housing</th>\n",
       "      <th>loan</th>\n",
       "      <th>contact</th>\n",
       "      <th>duration</th>\n",
       "      <th>campaign</th>\n",
       "      <th>pdays</th>\n",
       "      <th>previous</th>\n",
       "      <th>poutcome</th>\n",
       "      <th>y</th>\n",
       "    </tr>\n",
       "  </thead>\n",
       "  <tbody>\n",
       "    <tr>\n",
       "      <th>0</th>\n",
       "      <td>33</td>\n",
       "      <td>1</td>\n",
       "      <td>2</td>\n",
       "      <td>no</td>\n",
       "      <td>882</td>\n",
       "      <td>no</td>\n",
       "      <td>no</td>\n",
       "      <td>1</td>\n",
       "      <td>39</td>\n",
       "      <td>1</td>\n",
       "      <td>151</td>\n",
       "      <td>3</td>\n",
       "      <td>0</td>\n",
       "      <td>no</td>\n",
       "    </tr>\n",
       "    <tr>\n",
       "      <th>1</th>\n",
       "      <td>42</td>\n",
       "      <td>0</td>\n",
       "      <td>1</td>\n",
       "      <td>no</td>\n",
       "      <td>-247</td>\n",
       "      <td>yes</td>\n",
       "      <td>yes</td>\n",
       "      <td>1</td>\n",
       "      <td>519</td>\n",
       "      <td>1</td>\n",
       "      <td>166</td>\n",
       "      <td>1</td>\n",
       "      <td>2</td>\n",
       "      <td>yes</td>\n",
       "    </tr>\n",
       "    <tr>\n",
       "      <th>2</th>\n",
       "      <td>33</td>\n",
       "      <td>1</td>\n",
       "      <td>1</td>\n",
       "      <td>no</td>\n",
       "      <td>3444</td>\n",
       "      <td>yes</td>\n",
       "      <td>no</td>\n",
       "      <td>1</td>\n",
       "      <td>144</td>\n",
       "      <td>1</td>\n",
       "      <td>91</td>\n",
       "      <td>4</td>\n",
       "      <td>0</td>\n",
       "      <td>yes</td>\n",
       "    </tr>\n",
       "    <tr>\n",
       "      <th>3</th>\n",
       "      <td>36</td>\n",
       "      <td>1</td>\n",
       "      <td>2</td>\n",
       "      <td>no</td>\n",
       "      <td>2415</td>\n",
       "      <td>yes</td>\n",
       "      <td>no</td>\n",
       "      <td>1</td>\n",
       "      <td>73</td>\n",
       "      <td>1</td>\n",
       "      <td>86</td>\n",
       "      <td>4</td>\n",
       "      <td>2</td>\n",
       "      <td>no</td>\n",
       "    </tr>\n",
       "    <tr>\n",
       "      <th>4</th>\n",
       "      <td>36</td>\n",
       "      <td>1</td>\n",
       "      <td>2</td>\n",
       "      <td>no</td>\n",
       "      <td>0</td>\n",
       "      <td>yes</td>\n",
       "      <td>no</td>\n",
       "      <td>1</td>\n",
       "      <td>140</td>\n",
       "      <td>1</td>\n",
       "      <td>143</td>\n",
       "      <td>3</td>\n",
       "      <td>0</td>\n",
       "      <td>yes</td>\n",
       "    </tr>\n",
       "    <tr>\n",
       "      <th>5</th>\n",
       "      <td>44</td>\n",
       "      <td>1</td>\n",
       "      <td>1</td>\n",
       "      <td>no</td>\n",
       "      <td>1324</td>\n",
       "      <td>yes</td>\n",
       "      <td>no</td>\n",
       "      <td>1</td>\n",
       "      <td>119</td>\n",
       "      <td>1</td>\n",
       "      <td>89</td>\n",
       "      <td>2</td>\n",
       "      <td>2</td>\n",
       "      <td>no</td>\n",
       "    </tr>\n",
       "    <tr>\n",
       "      <th>6</th>\n",
       "      <td>26</td>\n",
       "      <td>0</td>\n",
       "      <td>2</td>\n",
       "      <td>no</td>\n",
       "      <td>172</td>\n",
       "      <td>no</td>\n",
       "      <td>yes</td>\n",
       "      <td>1</td>\n",
       "      <td>21</td>\n",
       "      <td>1</td>\n",
       "      <td>140</td>\n",
       "      <td>4</td>\n",
       "      <td>2</td>\n",
       "      <td>no</td>\n",
       "    </tr>\n",
       "    <tr>\n",
       "      <th>7</th>\n",
       "      <td>51</td>\n",
       "      <td>0</td>\n",
       "      <td>1</td>\n",
       "      <td>no</td>\n",
       "      <td>3132</td>\n",
       "      <td>no</td>\n",
       "      <td>no</td>\n",
       "      <td>1</td>\n",
       "      <td>449</td>\n",
       "      <td>1</td>\n",
       "      <td>176</td>\n",
       "      <td>1</td>\n",
       "      <td>0</td>\n",
       "      <td>no</td>\n",
       "    </tr>\n",
       "    <tr>\n",
       "      <th>8</th>\n",
       "      <td>33</td>\n",
       "      <td>2</td>\n",
       "      <td>1</td>\n",
       "      <td>no</td>\n",
       "      <td>1005</td>\n",
       "      <td>yes</td>\n",
       "      <td>no</td>\n",
       "      <td>1</td>\n",
       "      <td>175</td>\n",
       "      <td>1</td>\n",
       "      <td>174</td>\n",
       "      <td>2</td>\n",
       "      <td>0</td>\n",
       "      <td>no</td>\n",
       "    </tr>\n",
       "    <tr>\n",
       "      <th>9</th>\n",
       "      <td>30</td>\n",
       "      <td>1</td>\n",
       "      <td>1</td>\n",
       "      <td>no</td>\n",
       "      <td>873</td>\n",
       "      <td>yes</td>\n",
       "      <td>no</td>\n",
       "      <td>1</td>\n",
       "      <td>119</td>\n",
       "      <td>1</td>\n",
       "      <td>167</td>\n",
       "      <td>3</td>\n",
       "      <td>1</td>\n",
       "      <td>no</td>\n",
       "    </tr>\n",
       "  </tbody>\n",
       "</table>\n",
       "</div>"
      ],
      "text/plain": [
       "   age  marital  education default  balance housing loan  contact  duration  \\\n",
       "0   33        1          2      no      882      no   no        1        39   \n",
       "1   42        0          1      no     -247     yes  yes        1       519   \n",
       "2   33        1          1      no     3444     yes   no        1       144   \n",
       "3   36        1          2      no     2415     yes   no        1        73   \n",
       "4   36        1          2      no        0     yes   no        1       140   \n",
       "5   44        1          1      no     1324     yes   no        1       119   \n",
       "6   26        0          2      no      172      no  yes        1        21   \n",
       "7   51        0          1      no     3132      no   no        1       449   \n",
       "8   33        2          1      no     1005     yes   no        1       175   \n",
       "9   30        1          1      no      873     yes   no        1       119   \n",
       "\n",
       "   campaign  pdays  previous  poutcome    y  \n",
       "0         1    151         3         0   no  \n",
       "1         1    166         1         2  yes  \n",
       "2         1     91         4         0  yes  \n",
       "3         1     86         4         2   no  \n",
       "4         1    143         3         0  yes  \n",
       "5         1     89         2         2   no  \n",
       "6         1    140         4         2   no  \n",
       "7         1    176         1         0   no  \n",
       "8         1    174         2         0   no  \n",
       "9         1    167         3         1   no  "
      ]
     },
     "execution_count": 4,
     "metadata": {},
     "output_type": "execute_result"
    }
   ],
   "source": [
    "# Having a look\n",
    "\n",
    "data.head(10)"
   ]
  },
  {
   "cell_type": "code",
   "execution_count": 5,
   "id": "d7fb676e",
   "metadata": {},
   "outputs": [
    {
     "data": {
      "text/plain": [
       "array([[<AxesSubplot:title={'center':'age'}>,\n",
       "        <AxesSubplot:title={'center':'marital'}>,\n",
       "        <AxesSubplot:title={'center':'education'}>],\n",
       "       [<AxesSubplot:title={'center':'balance'}>,\n",
       "        <AxesSubplot:title={'center':'contact'}>,\n",
       "        <AxesSubplot:title={'center':'duration'}>],\n",
       "       [<AxesSubplot:title={'center':'campaign'}>,\n",
       "        <AxesSubplot:title={'center':'pdays'}>,\n",
       "        <AxesSubplot:title={'center':'previous'}>],\n",
       "       [<AxesSubplot:title={'center':'poutcome'}>, <AxesSubplot:>,\n",
       "        <AxesSubplot:>]], dtype=object)"
      ]
     },
     "execution_count": 5,
     "metadata": {},
     "output_type": "execute_result"
    },
    {
     "data": {
      "image/png": "[encoded data removed]",
      "text/plain": [
       "<Figure size 1728x864 with 12 Axes>"
      ]
     },
     "metadata": {
      "needs_background": "light"
     },
     "output_type": "display_data"
    }
   ],
   "source": [
    "# Visualization of data using histogram\n",
    "\n",
    "plt.rcParams[\"figure.figsize\"] = (24, 12)\n",
    "data.hist()"
   ]
  },
  {
   "cell_type": "markdown",
   "id": "e02635de",
   "metadata": {},
   "source": [
    "## Data Pre-Processing"
   ]
  },
  {
   "cell_type": "code",
   "execution_count": 7,
   "id": "3cbf863f",
   "metadata": {},
   "outputs": [
    {
     "data": {
      "text/plain": [
       "age          0\n",
       "marital      0\n",
       "education    0\n",
       "default      0\n",
       "balance      0\n",
       "housing      0\n",
       "loan         0\n",
       "contact      0\n",
       "duration     0\n",
       "campaign     0\n",
       "pdays        0\n",
       "previous     0\n",
       "poutcome     0\n",
       "y            0\n",
       "dtype: int64"
      ]
     },
     "execution_count": 7,
     "metadata": {},
     "output_type": "execute_result"
    }
   ],
   "source": [
    "# handling missing values\n",
    "data.isnull().sum()  #No null values"
   ]
  },
  {
   "cell_type": "code",
   "execution_count": 9,
   "id": "7619defc",
   "metadata": {},
   "outputs": [
    {
     "name": "stdout",
     "output_type": "stream",
     "text": [
      "False    7842\n",
      "dtype: int64\n"
     ]
    }
   ],
   "source": [
    "# To check duplicated values\n",
    "print(data.duplicated().value_counts()) "
   ]
  },
  {
   "cell_type": "markdown",
   "id": "b6aafe9e",
   "metadata": {},
   "source": [
    "## Feature Selection"
   ]
  },
  {
   "cell_type": "code",
   "execution_count": 10,
   "id": "be4319a0",
   "metadata": {},
   "outputs": [],
   "source": [
    "# This is to handle categorical data\n",
    "\n",
    "from sklearn.preprocessing import LabelEncoder\n",
    "labelencoder =LabelEncoder()"
   ]
  },
  {
   "cell_type": "code",
   "execution_count": 11,
   "id": "f944e25d",
   "metadata": {},
   "outputs": [
    {
     "data": {
      "text/plain": [
       "age          0\n",
       "marital      0\n",
       "education    0\n",
       "default      0\n",
       "balance      0\n",
       "housing      0\n",
       "loan         0\n",
       "contact      0\n",
       "duration     0\n",
       "campaign     0\n",
       "pdays        0\n",
       "previous     0\n",
       "poutcome     0\n",
       "y            0\n",
       "dtype: int64"
      ]
     },
     "execution_count": 11,
     "metadata": {},
     "output_type": "execute_result"
    }
   ],
   "source": [
    "# getting a copy of data to clean it.\n",
    "\n",
    "xa_Encode = data.copy()\n",
    "xa_Encode.isnull().sum()"
   ]
  },
  {
   "cell_type": "code",
   "execution_count": 12,
   "id": "84eccc30",
   "metadata": {},
   "outputs": [
    {
     "name": "stdout",
     "output_type": "stream",
     "text": [
      "Labelled as:  {'no': 0, 'yes': 1}\n",
      "Labelled as:  {'no': 0, 'yes': 1}\n",
      "Labelled as:  {'no': 0, 'yes': 1}\n",
      "Labelled as:  {'jan': 1, 'feb': 2, 'mar': 3, 'apr': 4, 'may': 5, 'jun': 6, 'jul': 7, 'aug': 8, 'sep': 9, 'oct': 10, 'nov': 11, 'dec': 12}\n",
      "Labelled as:  {'no': 0, 'yes': 1}\n",
      "Labelled as:  {'unknown': 0, 'cellular': 1, 'telephone': 2}\n",
      "Labelled as:  {'unknown': 0, 'primary': 1, 'secondary': 2, 'tertiary': 3}\n",
      "Labelled as:  {'unknown': 0, 'other': 1, 'failure': 2, 'success': 3}\n",
      "Labelled as:  {'divorced': 0, 'single': 1, 'married': 2}\n",
      "Labelled as:  {'unknown': 0, 'unemployed': 1, 'student': 2, 'management': 3, 'technician': 4, 'entrepreneur': 5, 'blue-collar': 6, 'retired': 7, 'admin.': 8, 'services': 9, 'self-employed': 10, 'housemaid': 11}\n"
     ]
    }
   ],
   "source": [
    "# Chaning categorical values into numberical\n",
    "\n",
    "features = ['default' ,'housing', 'loan','month', 'y','contact','education','poutcome','marital','job']\n",
    "feature_label_dict = {\n",
    "                  'default':{'no':0,'yes':1},\n",
    "                  'housing':{'no':0,'yes':1},\n",
    "                  'loan':{'no':0,'yes':1},\n",
    "                  'month':{'jan':1,'feb':2,'mar':3,'apr':4,'may':5,'jun':6,'jul':7,'aug':8,'sep':9,'oct':10,'nov':11,'dec':12},\n",
    "                  'y':{'no':0,'yes':1},\n",
    "                  'contact':{'unknown':0, 'cellular':1, 'telephone':2},\n",
    "                  'education':{'unknown':0, 'primary':1, 'secondary':2,'tertiary':3},\n",
    "                  'poutcome':{'unknown':0,  'other':1, 'failure':2, 'success':3},\n",
    "                  'marital':{  'divorced':0,'single':1,'married':2},\n",
    "                  'job':{'unknown':0,'unemployed':1, 'student':2,'management':3, 'technician':4, 'entrepreneur':5, 'blue-collar':6, 'retired':7, 'admin.':8, 'services':9, 'self-employed':10, 'housemaid':11}\n",
    "                 }\n",
    "for f in features:     \n",
    "  xa_Encode = xa_Encode.replace({f:feature_label_dict[f]})\n",
    "  \n",
    "  print (\"Labelled as: \",feature_label_dict[f])\n"
   ]
  },
  {
   "cell_type": "code",
   "execution_count": 13,
   "id": "4f5778e0",
   "metadata": {},
   "outputs": [
    {
     "data": {
      "text/html": [
       "<div>\n",
       "<style scoped>\n",
       "    .dataframe tbody tr th:only-of-type {\n",
       "        vertical-align: middle;\n",
       "    }\n",
       "\n",
       "    .dataframe tbody tr th {\n",
       "        vertical-align: top;\n",
       "    }\n",
       "\n",
       "    .dataframe thead th {\n",
       "        text-align: right;\n",
       "    }\n",
       "</style>\n",
       "<table border=\"1\" class=\"dataframe\">\n",
       "  <thead>\n",
       "    <tr style=\"text-align: right;\">\n",
       "      <th></th>\n",
       "      <th>age</th>\n",
       "      <th>marital</th>\n",
       "      <th>education</th>\n",
       "      <th>default</th>\n",
       "      <th>balance</th>\n",
       "      <th>housing</th>\n",
       "      <th>loan</th>\n",
       "      <th>contact</th>\n",
       "      <th>duration</th>\n",
       "      <th>campaign</th>\n",
       "      <th>pdays</th>\n",
       "      <th>previous</th>\n",
       "      <th>poutcome</th>\n",
       "      <th>y</th>\n",
       "    </tr>\n",
       "  </thead>\n",
       "  <tbody>\n",
       "    <tr>\n",
       "      <th>0</th>\n",
       "      <td>33</td>\n",
       "      <td>1</td>\n",
       "      <td>2</td>\n",
       "      <td>0</td>\n",
       "      <td>882</td>\n",
       "      <td>0</td>\n",
       "      <td>0</td>\n",
       "      <td>1</td>\n",
       "      <td>39</td>\n",
       "      <td>1</td>\n",
       "      <td>151</td>\n",
       "      <td>3</td>\n",
       "      <td>0</td>\n",
       "      <td>0</td>\n",
       "    </tr>\n",
       "    <tr>\n",
       "      <th>1</th>\n",
       "      <td>42</td>\n",
       "      <td>0</td>\n",
       "      <td>1</td>\n",
       "      <td>0</td>\n",
       "      <td>-247</td>\n",
       "      <td>1</td>\n",
       "      <td>1</td>\n",
       "      <td>1</td>\n",
       "      <td>519</td>\n",
       "      <td>1</td>\n",
       "      <td>166</td>\n",
       "      <td>1</td>\n",
       "      <td>2</td>\n",
       "      <td>1</td>\n",
       "    </tr>\n",
       "    <tr>\n",
       "      <th>2</th>\n",
       "      <td>33</td>\n",
       "      <td>1</td>\n",
       "      <td>1</td>\n",
       "      <td>0</td>\n",
       "      <td>3444</td>\n",
       "      <td>1</td>\n",
       "      <td>0</td>\n",
       "      <td>1</td>\n",
       "      <td>144</td>\n",
       "      <td>1</td>\n",
       "      <td>91</td>\n",
       "      <td>4</td>\n",
       "      <td>0</td>\n",
       "      <td>1</td>\n",
       "    </tr>\n",
       "    <tr>\n",
       "      <th>3</th>\n",
       "      <td>36</td>\n",
       "      <td>1</td>\n",
       "      <td>2</td>\n",
       "      <td>0</td>\n",
       "      <td>2415</td>\n",
       "      <td>1</td>\n",
       "      <td>0</td>\n",
       "      <td>1</td>\n",
       "      <td>73</td>\n",
       "      <td>1</td>\n",
       "      <td>86</td>\n",
       "      <td>4</td>\n",
       "      <td>2</td>\n",
       "      <td>0</td>\n",
       "    </tr>\n",
       "    <tr>\n",
       "      <th>4</th>\n",
       "      <td>36</td>\n",
       "      <td>1</td>\n",
       "      <td>2</td>\n",
       "      <td>0</td>\n",
       "      <td>0</td>\n",
       "      <td>1</td>\n",
       "      <td>0</td>\n",
       "      <td>1</td>\n",
       "      <td>140</td>\n",
       "      <td>1</td>\n",
       "      <td>143</td>\n",
       "      <td>3</td>\n",
       "      <td>0</td>\n",
       "      <td>1</td>\n",
       "    </tr>\n",
       "    <tr>\n",
       "      <th>5</th>\n",
       "      <td>44</td>\n",
       "      <td>1</td>\n",
       "      <td>1</td>\n",
       "      <td>0</td>\n",
       "      <td>1324</td>\n",
       "      <td>1</td>\n",
       "      <td>0</td>\n",
       "      <td>1</td>\n",
       "      <td>119</td>\n",
       "      <td>1</td>\n",
       "      <td>89</td>\n",
       "      <td>2</td>\n",
       "      <td>2</td>\n",
       "      <td>0</td>\n",
       "    </tr>\n",
       "    <tr>\n",
       "      <th>6</th>\n",
       "      <td>26</td>\n",
       "      <td>0</td>\n",
       "      <td>2</td>\n",
       "      <td>0</td>\n",
       "      <td>172</td>\n",
       "      <td>0</td>\n",
       "      <td>1</td>\n",
       "      <td>1</td>\n",
       "      <td>21</td>\n",
       "      <td>1</td>\n",
       "      <td>140</td>\n",
       "      <td>4</td>\n",
       "      <td>2</td>\n",
       "      <td>0</td>\n",
       "    </tr>\n",
       "    <tr>\n",
       "      <th>7</th>\n",
       "      <td>51</td>\n",
       "      <td>0</td>\n",
       "      <td>1</td>\n",
       "      <td>0</td>\n",
       "      <td>3132</td>\n",
       "      <td>0</td>\n",
       "      <td>0</td>\n",
       "      <td>1</td>\n",
       "      <td>449</td>\n",
       "      <td>1</td>\n",
       "      <td>176</td>\n",
       "      <td>1</td>\n",
       "      <td>0</td>\n",
       "      <td>0</td>\n",
       "    </tr>\n",
       "    <tr>\n",
       "      <th>8</th>\n",
       "      <td>33</td>\n",
       "      <td>2</td>\n",
       "      <td>1</td>\n",
       "      <td>0</td>\n",
       "      <td>1005</td>\n",
       "      <td>1</td>\n",
       "      <td>0</td>\n",
       "      <td>1</td>\n",
       "      <td>175</td>\n",
       "      <td>1</td>\n",
       "      <td>174</td>\n",
       "      <td>2</td>\n",
       "      <td>0</td>\n",
       "      <td>0</td>\n",
       "    </tr>\n",
       "    <tr>\n",
       "      <th>9</th>\n",
       "      <td>30</td>\n",
       "      <td>1</td>\n",
       "      <td>1</td>\n",
       "      <td>0</td>\n",
       "      <td>873</td>\n",
       "      <td>1</td>\n",
       "      <td>0</td>\n",
       "      <td>1</td>\n",
       "      <td>119</td>\n",
       "      <td>1</td>\n",
       "      <td>167</td>\n",
       "      <td>3</td>\n",
       "      <td>1</td>\n",
       "      <td>0</td>\n",
       "    </tr>\n",
       "  </tbody>\n",
       "</table>\n",
       "</div>"
      ],
      "text/plain": [
       "   age  marital  education  default  balance  housing  loan  contact  \\\n",
       "0   33        1          2        0      882        0     0        1   \n",
       "1   42        0          1        0     -247        1     1        1   \n",
       "2   33        1          1        0     3444        1     0        1   \n",
       "3   36        1          2        0     2415        1     0        1   \n",
       "4   36        1          2        0        0        1     0        1   \n",
       "5   44        1          1        0     1324        1     0        1   \n",
       "6   26        0          2        0      172        0     1        1   \n",
       "7   51        0          1        0     3132        0     0        1   \n",
       "8   33        2          1        0     1005        1     0        1   \n",
       "9   30        1          1        0      873        1     0        1   \n",
       "\n",
       "   duration  campaign  pdays  previous  poutcome  y  \n",
       "0        39         1    151         3         0  0  \n",
       "1       519         1    166         1         2  1  \n",
       "2       144         1     91         4         0  1  \n",
       "3        73         1     86         4         2  0  \n",
       "4       140         1    143         3         0  1  \n",
       "5       119         1     89         2         2  0  \n",
       "6        21         1    140         4         2  0  \n",
       "7       449         1    176         1         0  0  \n",
       "8       175         1    174         2         0  0  \n",
       "9       119         1    167         3         1  0  "
      ]
     },
     "execution_count": 13,
     "metadata": {},
     "output_type": "execute_result"
    }
   ],
   "source": [
    "# checking cleaned data\n",
    "\n",
    "xa_Encode.head(10)"
   ]
  },
  {
   "cell_type": "code",
   "execution_count": 36,
   "id": "7dd4fe48",
   "metadata": {},
   "outputs": [],
   "source": [
    "# getting features and label\n",
    "X = pd.DataFrame(xa_Encode.iloc[:,:-1])\n",
    "y_true = pd.DataFrame(xa_Encode.iloc[:,-1:])"
   ]
  },
  {
   "cell_type": "markdown",
   "id": "46517eb5",
   "metadata": {},
   "source": [
    "## Dealing with Class Imbalance"
   ]
  },
  {
   "cell_type": "code",
   "execution_count": 37,
   "id": "b3db1a73",
   "metadata": {},
   "outputs": [
    {
     "data": {
      "image/png": "[encoded data removed]",
      "text/plain": [
       "<Figure size 720x576 with 1 Axes>"
      ]
     },
     "metadata": {
      "needs_background": "light"
     },
     "output_type": "display_data"
    }
   ],
   "source": [
    "# To check class imbalance\n",
    "\n",
    "import seaborn as sns\n",
    "plt.rcParams[\"figure.figsize\"] = (10, 8)\n",
    "xa_Encode['y'].value_counts()\n",
    "sns.countplot(x='y', data=xa_Encode)\n",
    "plt.show()"
   ]
  },
  {
   "cell_type": "code",
   "execution_count": 39,
   "id": "3655437f",
   "metadata": {},
   "outputs": [],
   "source": [
    "# To deal with class imbalance\n",
    "from imblearn.over_sampling import SMOTE\n",
    "from sklearn.model_selection import train_test_split\n",
    "os = SMOTE(random_state=0)\n",
    "X_class_train, X_test, y_class_train, y_test = train_test_split(X, y_true, test_size=0.3, random_state=0)\n",
    "columns = X_class_train.columns\n",
    "data_X, data_y = os.fit_resample(X_class_train, y_class_train)\n",
    "smoted_X = pd.DataFrame(data=data_X,columns=columns )\n",
    "smoted_y= pd.DataFrame(data=data_y,columns=['y'])"
   ]
  },
  {
   "cell_type": "markdown",
   "id": "cfc4731f",
   "metadata": {},
   "source": [
    "## Making data ready for training"
   ]
  },
  {
   "cell_type": "code",
   "execution_count": 43,
   "id": "d41da0cb",
   "metadata": {},
   "outputs": [],
   "source": [
    "X = smoted_X\n",
    "Y = smoted_y"
   ]
  },
  {
   "cell_type": "code",
   "execution_count": 44,
   "id": "784d58fb",
   "metadata": {},
   "outputs": [],
   "source": [
    "# splitting data into train test data\n",
    "from sklearn.neural_network import MLPRegressor\n",
    "from sklearn.model_selection import train_test_split\n",
    "X_train, X_test, y_train, y_test = train_test_split(X, Y,random_state=1, test_size=0.2)"
   ]
  },
  {
   "cell_type": "code",
   "execution_count": 45,
   "id": "88e97cd1",
   "metadata": {},
   "outputs": [],
   "source": [
    "# To scale our data\n",
    "sc_X = StandardScaler()\n",
    "sc_X.fit(X_train)\n",
    "X_trainscaled=sc_X.fit_transform(X_train)\n",
    "X_testscaled=sc_X.transform(X_test)"
   ]
  },
  {
   "cell_type": "code",
   "execution_count": 47,
   "id": "3423bdbb",
   "metadata": {},
   "outputs": [],
   "source": [
    "# To get the columns name to make the scaled output as data frame,\n",
    "columns_value_new=X_train.columns\n",
    "test_X_Scaled_Except = pd.DataFrame(X_trainscaled, columns=columns_value_new)"
   ]
  },
  {
   "cell_type": "code",
   "execution_count": 48,
   "id": "2f80255d",
   "metadata": {},
   "outputs": [
    {
     "data": {
      "image/png": "[encoded data removed]",
      "text/plain": [
       "<Figure size 1728x576 with 2 Axes>"
      ]
     },
     "metadata": {
      "needs_background": "light"
     },
     "output_type": "display_data"
    }
   ],
   "source": [
    "# Identify significant and independent features using correlation matrix without target variable\n",
    "import seaborn as sns\n",
    "plt.rcParams[\"figure.figsize\"] = (24, 8)\n",
    "sns.heatmap(test_X_Scaled_Except.corr(),annot=True);"
   ]
  },
  {
   "cell_type": "code",
   "execution_count": 50,
   "id": "8a3217ba",
   "metadata": {},
   "outputs": [],
   "source": [
    "# Doing PCA\n",
    "\n",
    "from sklearn.decomposition import PCA\n",
    "PCA_data_train =X_trainscaled\n",
    "PCA_data_test =X_testscaled\n",
    "pca = PCA(n_components=13)\n",
    "pca.fit(PCA_data_train)\n",
    "X_pca_train= pca.fit_transform(PCA_data_train) \n",
    "X_pca_test= pca.fit_transform(PCA_data_test) \n",
    "principalDf_train = pd.DataFrame(data = X_pca_train)\n",
    "principalDf_test = pd.DataFrame(data = X_pca_test)"
   ]
  },
  {
   "cell_type": "code",
   "execution_count": 51,
   "id": "e4846236",
   "metadata": {},
   "outputs": [
    {
     "data": {
      "text/html": [
       "<div>\n",
       "<style scoped>\n",
       "    .dataframe tbody tr th:only-of-type {\n",
       "        vertical-align: middle;\n",
       "    }\n",
       "\n",
       "    .dataframe tbody tr th {\n",
       "        vertical-align: top;\n",
       "    }\n",
       "\n",
       "    .dataframe thead th {\n",
       "        text-align: right;\n",
       "    }\n",
       "</style>\n",
       "<table border=\"1\" class=\"dataframe\">\n",
       "  <thead>\n",
       "    <tr style=\"text-align: right;\">\n",
       "      <th></th>\n",
       "      <th>0</th>\n",
       "      <th>1</th>\n",
       "      <th>2</th>\n",
       "      <th>3</th>\n",
       "      <th>4</th>\n",
       "      <th>5</th>\n",
       "      <th>6</th>\n",
       "      <th>7</th>\n",
       "      <th>8</th>\n",
       "      <th>9</th>\n",
       "      <th>10</th>\n",
       "      <th>11</th>\n",
       "      <th>12</th>\n",
       "    </tr>\n",
       "  </thead>\n",
       "  <tbody>\n",
       "    <tr>\n",
       "      <th>0</th>\n",
       "      <td>1.743491</td>\n",
       "      <td>1.207010</td>\n",
       "      <td>1.080025</td>\n",
       "      <td>-1.609886</td>\n",
       "      <td>2.179511</td>\n",
       "      <td>-0.757388</td>\n",
       "      <td>-2.146067</td>\n",
       "      <td>-0.072955</td>\n",
       "      <td>1.112365</td>\n",
       "      <td>1.640053</td>\n",
       "      <td>-0.409255</td>\n",
       "      <td>-1.081875</td>\n",
       "      <td>-1.046708</td>\n",
       "    </tr>\n",
       "    <tr>\n",
       "      <th>1</th>\n",
       "      <td>-0.124268</td>\n",
       "      <td>-1.784959</td>\n",
       "      <td>-0.324702</td>\n",
       "      <td>1.485186</td>\n",
       "      <td>0.591321</td>\n",
       "      <td>0.417385</td>\n",
       "      <td>-0.657132</td>\n",
       "      <td>-1.813339</td>\n",
       "      <td>0.562098</td>\n",
       "      <td>0.435761</td>\n",
       "      <td>0.754769</td>\n",
       "      <td>-0.012217</td>\n",
       "      <td>-0.352043</td>\n",
       "    </tr>\n",
       "    <tr>\n",
       "      <th>2</th>\n",
       "      <td>-0.745833</td>\n",
       "      <td>-1.465073</td>\n",
       "      <td>1.334114</td>\n",
       "      <td>0.471290</td>\n",
       "      <td>0.468644</td>\n",
       "      <td>0.509407</td>\n",
       "      <td>-0.614760</td>\n",
       "      <td>-1.038937</td>\n",
       "      <td>0.309875</td>\n",
       "      <td>-0.590839</td>\n",
       "      <td>0.847504</td>\n",
       "      <td>-0.468316</td>\n",
       "      <td>-0.979778</td>\n",
       "    </tr>\n",
       "    <tr>\n",
       "      <th>3</th>\n",
       "      <td>1.812612</td>\n",
       "      <td>-1.135204</td>\n",
       "      <td>-0.542714</td>\n",
       "      <td>-1.959416</td>\n",
       "      <td>-0.015222</td>\n",
       "      <td>0.228069</td>\n",
       "      <td>-0.959873</td>\n",
       "      <td>0.650614</td>\n",
       "      <td>1.388317</td>\n",
       "      <td>0.853277</td>\n",
       "      <td>-0.704629</td>\n",
       "      <td>-0.080597</td>\n",
       "      <td>0.374984</td>\n",
       "    </tr>\n",
       "    <tr>\n",
       "      <th>4</th>\n",
       "      <td>-0.562920</td>\n",
       "      <td>0.320420</td>\n",
       "      <td>-0.735116</td>\n",
       "      <td>-0.534235</td>\n",
       "      <td>-0.319279</td>\n",
       "      <td>-0.458703</td>\n",
       "      <td>0.351818</td>\n",
       "      <td>0.280537</td>\n",
       "      <td>-0.537531</td>\n",
       "      <td>0.316363</td>\n",
       "      <td>-0.024216</td>\n",
       "      <td>0.146666</td>\n",
       "      <td>0.905085</td>\n",
       "    </tr>\n",
       "    <tr>\n",
       "      <th>5</th>\n",
       "      <td>-0.220849</td>\n",
       "      <td>-1.211927</td>\n",
       "      <td>-1.991269</td>\n",
       "      <td>1.777603</td>\n",
       "      <td>0.011339</td>\n",
       "      <td>1.200295</td>\n",
       "      <td>-0.119330</td>\n",
       "      <td>0.159502</td>\n",
       "      <td>0.962667</td>\n",
       "      <td>-0.549800</td>\n",
       "      <td>-0.088986</td>\n",
       "      <td>-0.489906</td>\n",
       "      <td>-0.567413</td>\n",
       "    </tr>\n",
       "    <tr>\n",
       "      <th>6</th>\n",
       "      <td>3.711727</td>\n",
       "      <td>2.410265</td>\n",
       "      <td>5.438020</td>\n",
       "      <td>2.276343</td>\n",
       "      <td>-1.933855</td>\n",
       "      <td>-0.922373</td>\n",
       "      <td>0.473845</td>\n",
       "      <td>-2.016095</td>\n",
       "      <td>2.034139</td>\n",
       "      <td>-3.120804</td>\n",
       "      <td>-3.984291</td>\n",
       "      <td>-1.049329</td>\n",
       "      <td>-0.908893</td>\n",
       "    </tr>\n",
       "    <tr>\n",
       "      <th>7</th>\n",
       "      <td>-0.933147</td>\n",
       "      <td>0.813910</td>\n",
       "      <td>1.469606</td>\n",
       "      <td>-0.395098</td>\n",
       "      <td>1.383712</td>\n",
       "      <td>-1.018273</td>\n",
       "      <td>-0.675133</td>\n",
       "      <td>-0.416287</td>\n",
       "      <td>-0.807393</td>\n",
       "      <td>0.490422</td>\n",
       "      <td>1.012664</td>\n",
       "      <td>-0.339276</td>\n",
       "      <td>0.524273</td>\n",
       "    </tr>\n",
       "    <tr>\n",
       "      <th>8</th>\n",
       "      <td>2.338100</td>\n",
       "      <td>0.290445</td>\n",
       "      <td>-0.433889</td>\n",
       "      <td>1.492249</td>\n",
       "      <td>-2.043020</td>\n",
       "      <td>-2.115791</td>\n",
       "      <td>1.548222</td>\n",
       "      <td>-0.196671</td>\n",
       "      <td>1.908617</td>\n",
       "      <td>1.243689</td>\n",
       "      <td>1.443882</td>\n",
       "      <td>-0.753743</td>\n",
       "      <td>1.227751</td>\n",
       "    </tr>\n",
       "    <tr>\n",
       "      <th>9</th>\n",
       "      <td>0.223144</td>\n",
       "      <td>0.039622</td>\n",
       "      <td>4.000390</td>\n",
       "      <td>-0.394738</td>\n",
       "      <td>-0.562378</td>\n",
       "      <td>-0.115715</td>\n",
       "      <td>-0.353650</td>\n",
       "      <td>-1.921888</td>\n",
       "      <td>-0.659197</td>\n",
       "      <td>-2.105667</td>\n",
       "      <td>-3.147244</td>\n",
       "      <td>0.205986</td>\n",
       "      <td>0.623321</td>\n",
       "    </tr>\n",
       "  </tbody>\n",
       "</table>\n",
       "</div>"
      ],
      "text/plain": [
       "         0         1         2         3         4         5         6   \\\n",
       "0  1.743491  1.207010  1.080025 -1.609886  2.179511 -0.757388 -2.146067   \n",
       "1 -0.124268 -1.784959 -0.324702  1.485186  0.591321  0.417385 -0.657132   \n",
       "2 -0.745833 -1.465073  1.334114  0.471290  0.468644  0.509407 -0.614760   \n",
       "3  1.812612 -1.135204 -0.542714 -1.959416 -0.015222  0.228069 -0.959873   \n",
       "4 -0.562920  0.320420 -0.735116 -0.534235 -0.319279 -0.458703  0.351818   \n",
       "5 -0.220849 -1.211927 -1.991269  1.777603  0.011339  1.200295 -0.119330   \n",
       "6  3.711727  2.410265  5.438020  2.276343 -1.933855 -0.922373  0.473845   \n",
       "7 -0.933147  0.813910  1.469606 -0.395098  1.383712 -1.018273 -0.675133   \n",
       "8  2.338100  0.290445 -0.433889  1.492249 -2.043020 -2.115791  1.548222   \n",
       "9  0.223144  0.039622  4.000390 -0.394738 -0.562378 -0.115715 -0.353650   \n",
       "\n",
       "         7         8         9         10        11        12  \n",
       "0 -0.072955  1.112365  1.640053 -0.409255 -1.081875 -1.046708  \n",
       "1 -1.813339  0.562098  0.435761  0.754769 -0.012217 -0.352043  \n",
       "2 -1.038937  0.309875 -0.590839  0.847504 -0.468316 -0.979778  \n",
       "3  0.650614  1.388317  0.853277 -0.704629 -0.080597  0.374984  \n",
       "4  0.280537 -0.537531  0.316363 -0.024216  0.146666  0.905085  \n",
       "5  0.159502  0.962667 -0.549800 -0.088986 -0.489906 -0.567413  \n",
       "6 -2.016095  2.034139 -3.120804 -3.984291 -1.049329 -0.908893  \n",
       "7 -0.416287 -0.807393  0.490422  1.012664 -0.339276  0.524273  \n",
       "8 -0.196671  1.908617  1.243689  1.443882 -0.753743  1.227751  \n",
       "9 -1.921888 -0.659197 -2.105667 -3.147244  0.205986  0.623321  "
      ]
     },
     "execution_count": 51,
     "metadata": {},
     "output_type": "execute_result"
    }
   ],
   "source": [
    "# to check principal df for training\n",
    "principalDf_train.head(10)"
   ]
  },
  {
   "cell_type": "markdown",
   "id": "08bdb01d",
   "metadata": {},
   "source": [
    "## Creating model 1"
   ]
  },
  {
   "cell_type": "code",
   "execution_count": 73,
   "id": "4c2e1227",
   "metadata": {},
   "outputs": [
    {
     "name": "stderr",
     "output_type": "stream",
     "text": [
      "/home/munsif/Notebook/JupyterEnv/lib/python3.8/site-packages/sklearn/neural_network/_multilayer_perceptron.py:1109: DataConversionWarning: A column-vector y was passed when a 1d array was expected. Please change the shape of y to (n_samples, ), for example using ravel().\n",
      "  y = column_or_1d(y, warn=True)\n"
     ]
    },
    {
     "name": "stdout",
     "output_type": "stream",
     "text": [
      "0.7893192488262911\n"
     ]
    },
    {
     "name": "stderr",
     "output_type": "stream",
     "text": [
      "/home/munsif/Notebook/JupyterEnv/lib/python3.8/site-packages/sklearn/neural_network/_multilayer_perceptron.py:692: ConvergenceWarning: Stochastic Optimizer: Maximum iterations (200) reached and the optimization hasn't converged yet.\n",
      "  warnings.warn(\n"
     ]
    }
   ],
   "source": [
    "from sklearn.neural_network import MLPClassifier \n",
    "clf = MLPClassifier(hidden_layer_sizes=(16,8,4), solver='sgd',random_state=1).fit(principalDf_train, y_train)\n",
    "y_pred=clf.predict(principalDf_test)\n",
    "print(clf.score(principalDf_test, y_test))"
   ]
  },
  {
   "cell_type": "code",
   "execution_count": 74,
   "id": "4c97cee0",
   "metadata": {},
   "outputs": [
    {
     "name": "stdout",
     "output_type": "stream",
     "text": [
      "              precision    recall  f1-score   support\n",
      "\n",
      "           0       0.81      0.76      0.78       851\n",
      "           1       0.77      0.82      0.80       853\n",
      "\n",
      "    accuracy                           0.79      1704\n",
      "   macro avg       0.79      0.79      0.79      1704\n",
      "weighted avg       0.79      0.79      0.79      1704\n",
      "\n"
     ]
    }
   ],
   "source": [
    "# to see the accuracy of model\n",
    "from sklearn.metrics import classification_report\n",
    "print(classification_report(y_test,y_pred))"
   ]
  },
  {
   "cell_type": "code",
   "execution_count": 75,
   "id": "decd3e3d",
   "metadata": {},
   "outputs": [
    {
     "name": "stderr",
     "output_type": "stream",
     "text": [
      "/home/munsif/Notebook/JupyterEnv/lib/python3.8/site-packages/sklearn/utils/deprecation.py:87: FutureWarning: Function plot_confusion_matrix is deprecated; Function `plot_confusion_matrix` is deprecated in 1.0 and will be removed in 1.2. Use one of the class methods: ConfusionMatrixDisplay.from_predictions or ConfusionMatrixDisplay.from_estimator.\n",
      "  warnings.warn(msg, category=FutureWarning)\n"
     ]
    },
    {
     "data": {
      "image/png": "[encoded data removed]",
      "text/plain": [
       "<Figure size 576x720 with 2 Axes>"
      ]
     },
     "metadata": {
      "needs_background": "light"
     },
     "output_type": "display_data"
    }
   ],
   "source": [
    "# To see confusion matrix\n",
    "from sklearn.metrics import plot_confusion_matrix\n",
    "plt.rcParams[\"figure.figsize\"] = (8, 10)\n",
    "fig=plot_confusion_matrix(clf, principalDf_test, y_test,display_labels=[\"0\",'1'],cmap=plt.cm.Blues,values_format = '.2f')\n",
    "fig.figure_.suptitle(\"Confusion Matrix \")\n",
    "plt.show()"
   ]
  },
  {
   "cell_type": "markdown",
   "id": "a282ddfd",
   "metadata": {},
   "source": [
    "## Creating model 2"
   ]
  },
  {
   "cell_type": "code",
   "execution_count": 76,
   "id": "7f521200",
   "metadata": {},
   "outputs": [
    {
     "name": "stderr",
     "output_type": "stream",
     "text": [
      "/home/munsif/Notebook/JupyterEnv/lib/python3.8/site-packages/sklearn/neural_network/_multilayer_perceptron.py:1109: DataConversionWarning: A column-vector y was passed when a 1d array was expected. Please change the shape of y to (n_samples, ), for example using ravel().\n",
      "  y = column_or_1d(y, warn=True)\n"
     ]
    },
    {
     "name": "stdout",
     "output_type": "stream",
     "text": [
      "0.8174882629107981\n"
     ]
    },
    {
     "name": "stderr",
     "output_type": "stream",
     "text": [
      "/home/munsif/Notebook/JupyterEnv/lib/python3.8/site-packages/sklearn/neural_network/_multilayer_perceptron.py:692: ConvergenceWarning: Stochastic Optimizer: Maximum iterations (200) reached and the optimization hasn't converged yet.\n",
      "  warnings.warn(\n"
     ]
    }
   ],
   "source": [
    "from sklearn.neural_network import MLPClassifier \n",
    "clf = MLPClassifier(hidden_layer_sizes=(8,4,2), solver='sgd',random_state=1).fit(principalDf_train, y_train)\n",
    "y_pred=clf.predict(principalDf_test)\n",
    "print(clf.score(principalDf_test, y_test))"
   ]
  },
  {
   "cell_type": "code",
   "execution_count": 78,
   "id": "89ed131b",
   "metadata": {},
   "outputs": [
    {
     "name": "stdout",
     "output_type": "stream",
     "text": [
      "              precision    recall  f1-score   support\n",
      "\n",
      "           0       0.81      0.83      0.82       851\n",
      "           1       0.82      0.81      0.82       853\n",
      "\n",
      "    accuracy                           0.82      1704\n",
      "   macro avg       0.82      0.82      0.82      1704\n",
      "weighted avg       0.82      0.82      0.82      1704\n",
      "\n"
     ]
    }
   ],
   "source": [
    "# to see the accuracy of model\n",
    "from sklearn.metrics import classification_report\n",
    "print(classification_report(y_test,y_pred))"
   ]
  },
  {
   "cell_type": "code",
   "execution_count": 79,
   "id": "16fe4978",
   "metadata": {},
   "outputs": [
    {
     "name": "stderr",
     "output_type": "stream",
     "text": [
      "/home/munsif/Notebook/JupyterEnv/lib/python3.8/site-packages/sklearn/utils/deprecation.py:87: FutureWarning: Function plot_confusion_matrix is deprecated; Function `plot_confusion_matrix` is deprecated in 1.0 and will be removed in 1.2. Use one of the class methods: ConfusionMatrixDisplay.from_predictions or ConfusionMatrixDisplay.from_estimator.\n",
      "  warnings.warn(msg, category=FutureWarning)\n"
     ]
    },
    {
     "data": {
      "image/png": "[encoded data removed]",
      "text/plain": [
       "<Figure size 576x720 with 2 Axes>"
      ]
     },
     "metadata": {
      "needs_background": "light"
     },
     "output_type": "display_data"
    }
   ],
   "source": [
    "# To see confusion matrix\n",
    "from sklearn.metrics import plot_confusion_matrix\n",
    "plt.rcParams[\"figure.figsize\"] = (8, 10)\n",
    "fig=plot_confusion_matrix(clf, principalDf_test, y_test,display_labels=[\"0\",'1'],cmap=plt.cm.Blues,values_format = '.2f')\n",
    "fig.figure_.suptitle(\"Confusion Matrix \")\n",
    "plt.show()"
   ]
  },
  {
   "cell_type": "markdown",
   "id": "0b10afac",
   "metadata": {},
   "source": [
    "## Conclusion\n",
    "We loaded our data, pre-processed it, dealt with categorical data using labelEncoder, dealt with class imbalance using SMOTE, scaled our data to get better results, used PCA(Principal Component Analysis) to do dimension reduction, used Multi-layer Perceptron a feed forward neural network to train on our data. We tried different number of layers and number of nodes in a layer and finally got 81% accuracy. Then at the end we evaluated our model."
   ]
  }
 ],
 "metadata": {
  "kernelspec": {
   "display_name": "Python 3 (ipykernel)",
   "language": "python",
   "name": "python3"
  },
  "language_info": {
   "codemirror_mode": {
    "name": "ipython",
    "version": 3
   },
   "file_extension": ".py",
   "mimetype": "text/x-python",
   "name": "python",
   "nbconvert_exporter": "python",
   "pygments_lexer": "ipython3",
   "version": "3.8.10"
  }
 },
 "nbformat": 4,
 "nbformat_minor": 5
}
