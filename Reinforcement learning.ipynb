{
 "cells": [
  {
   "cell_type": "markdown",
   "id": "a2c99e18",
   "metadata": {},
   "source": [
    "# Reinforcement Learning using Q-Learning Algorithm\n",
    "\n",
    "## Munsif Raza"
   ]
  },
  {
   "cell_type": "markdown",
   "id": "eba2b5b1",
   "metadata": {},
   "source": [
    "We shall use **Q-learning algorithm** to train an agent to navigate a popular enviroment from the **Open AI GYM**. The Open AI GYM was developed so programmers could practice machine learning using unique enviroments."
   ]
  },
  {
   "cell_type": "code",
   "execution_count": 2,
   "id": "40fbb859",
   "metadata": {},
   "outputs": [],
   "source": [
    "# Importing requirements\n",
    "import gym"
   ]
  },
  {
   "cell_type": "code",
   "execution_count": 3,
   "id": "93168360",
   "metadata": {},
   "outputs": [],
   "source": [
    "env = gym.make('FrozenLake-v1') # We shall use FrozenLake environment."
   ]
  },
  {
   "cell_type": "markdown",
   "id": "f0c3c854",
   "metadata": {},
   "source": [
    "There are a few commands to interact and get the information about the environment."
   ]
  },
  {
   "cell_type": "code",
   "execution_count": 4,
   "id": "57dcd7e3",
   "metadata": {},
   "outputs": [
    {
     "name": "stdout",
     "output_type": "stream",
     "text": [
      "16\n",
      "4\n"
     ]
    }
   ],
   "source": [
    "print(env.observation_space.n) # get the number of states.\n",
    "print(env.action_space.n) # get the number of actions."
   ]
  },
  {
   "cell_type": "code",
   "execution_count": 5,
   "id": "02b0f7e1",
   "metadata": {},
   "outputs": [
    {
     "data": {
      "text/plain": [
       "0"
      ]
     },
     "execution_count": 5,
     "metadata": {},
     "output_type": "execute_result"
    }
   ],
   "source": [
    "env.reset() # reset environment to default state."
   ]
  },
  {
   "cell_type": "code",
   "execution_count": 6,
   "id": "10ed490c",
   "metadata": {},
   "outputs": [],
   "source": [
    "action = env.action_space.sample() # get a random action."
   ]
  },
  {
   "cell_type": "code",
   "execution_count": 7,
   "id": "c867ca3e",
   "metadata": {},
   "outputs": [],
   "source": [
    "observation, reward, done, info = env.step(action) # take action, notice it returns information about the act."
   ]
  },
  {
   "cell_type": "code",
   "execution_count": 10,
   "id": "d4553495",
   "metadata": {},
   "outputs": [
    {
     "name": "stdout",
     "output_type": "stream",
     "text": [
      "  (Down)\n",
      "SFFF\n",
      "\u001b[41mF\u001b[0mHFH\n",
      "FFFH\n",
      "HFFG\n"
     ]
    }
   ],
   "source": [
    "env.render() # render the GUI for the environment."
   ]
  },
  {
   "cell_type": "markdown",
   "id": "06fca7e6",
   "metadata": {},
   "source": [
    "# Frozen Lake Environment\n",
    "\n",
    "FozenLake-v1 is one of the most simple environments of OpenAI GYM. The goal of the agent is to navigate a frozen lake and find the  goal without falling through the ice(render the environment above to see an example).\n",
    "\n",
    "There are:\n",
    "- 16 states(one for each square)\n",
    "- 4 possible actions(LEFT, RIGHT, UP, DOWN)\n",
    "- 4 different type of blocks(F:frozen, H:hole, S:start, G:goal"
   ]
  },
  {
   "cell_type": "markdown",
   "id": "2264b7da",
   "metadata": {},
   "source": [
    "# Building the Q-Table\n",
    "The first thing we need to do is build an empty Q-Table that we can use to store and update our values."
   ]
  },
  {
   "cell_type": "code",
   "execution_count": 11,
   "id": "6e704ca5",
   "metadata": {},
   "outputs": [],
   "source": [
    "# Importing required libraries\n",
    "import gym\n",
    "import numpy as np\n",
    "import time"
   ]
  },
  {
   "cell_type": "code",
   "execution_count": 13,
   "id": "cbc931eb",
   "metadata": {},
   "outputs": [],
   "source": [
    "env = gym.make('FrozenLake-v1')\n",
    "STATES = env.observation_space.n\n",
    "ACTIONS = env.action_space.n"
   ]
  },
  {
   "cell_type": "code",
   "execution_count": 14,
   "id": "8cff31b1",
   "metadata": {},
   "outputs": [
    {
     "data": {
      "text/plain": [
       "array([[0., 0., 0., 0.],\n",
       "       [0., 0., 0., 0.],\n",
       "       [0., 0., 0., 0.],\n",
       "       [0., 0., 0., 0.],\n",
       "       [0., 0., 0., 0.],\n",
       "       [0., 0., 0., 0.],\n",
       "       [0., 0., 0., 0.],\n",
       "       [0., 0., 0., 0.],\n",
       "       [0., 0., 0., 0.],\n",
       "       [0., 0., 0., 0.],\n",
       "       [0., 0., 0., 0.],\n",
       "       [0., 0., 0., 0.],\n",
       "       [0., 0., 0., 0.],\n",
       "       [0., 0., 0., 0.],\n",
       "       [0., 0., 0., 0.],\n",
       "       [0., 0., 0., 0.]])"
      ]
     },
     "execution_count": 14,
     "metadata": {},
     "output_type": "execute_result"
    }
   ],
   "source": [
    "Q = np.zeros((STATES, ACTIONS)) # Creating a matrix of all 0 values.\n",
    "Q"
   ]
  },
  {
   "cell_type": "markdown",
   "id": "b150ccd8",
   "metadata": {},
   "source": [
    "# Constants\n",
    "We need to define some constants that will be used to update our Q-Table and tell our agent when to stop training."
   ]
  },
  {
   "cell_type": "code",
   "execution_count": 30,
   "id": "c5db4493",
   "metadata": {},
   "outputs": [],
   "source": [
    "EPISODES = 50000 # How many times run the environment from start.\n",
    "MAX_STEPS = 100 # max number of steps allowed for each run of environment.\n",
    "LEARNING_RATE = 0.81 # learning rate\n",
    "GAMA = 0.96\n",
    "RENDER = False"
   ]
  },
  {
   "cell_type": "markdown",
   "id": "cd076b8c",
   "metadata": {},
   "source": [
    "# Picking an Action\n",
    "We can pick an action using one of two methods:\n",
    "- Randomly picking a valid action.\n",
    "- Using the current Q-Table to find the best solution.\n",
    "\n",
    "Here we will define a new value that will tell us the probability of selecting a random action. This value will start off very high and slowly decreases as the agernt learns more about the environment."
   ]
  },
  {
   "cell_type": "code",
   "execution_count": 16,
   "id": "41bd220d",
   "metadata": {},
   "outputs": [],
   "source": [
    "epsilon = 0.9 # start with a 90% chance of picking a random action.\n",
    "\n",
    "# code to pick action.\n",
    "if np.random.uniform(0, 1) < epsilon: # we will check if a randomly selected value is less than epslion. \n",
    "    action = env.action_space.sample() # take random action.\n",
    "else:\n",
    "    action = np.argmax(Q[state, :]) # use Q-Table to pick best action based on current values."
   ]
  },
  {
   "cell_type": "markdown",
   "id": "49898e6b",
   "metadata": {},
   "source": [
    "# Updating Q values"
   ]
  },
  {
   "cell_type": "code",
   "execution_count": null,
   "id": "ca5f4110",
   "metadata": {},
   "outputs": [],
   "source": [
    "Q[state, action] = Q[state, action] + LEARNING_RATE * (reward + GAMA * np.max(Q[new_state, :]) - Q[state, action])"
   ]
  },
  {
   "cell_type": "code",
   "execution_count": 31,
   "id": "6e395bc7",
   "metadata": {},
   "outputs": [
    {
     "name": "stdout",
     "output_type": "stream",
     "text": [
      "[[4.33469339e-03 1.30534747e-01 3.41814011e-03 4.13476747e-03]\n",
      " [2.18609210e-03 5.51213626e-04 8.35336795e-04 6.41776191e-02]\n",
      " [1.34710160e-03 1.39259788e-03 1.26247081e-03 2.73730465e-02]\n",
      " [2.62942926e-04 4.42458277e-04 7.73823826e-04 2.69955353e-02]\n",
      " [2.74614605e-01 2.12260500e-03 2.57052913e-03 2.10996328e-03]\n",
      " [0.00000000e+00 0.00000000e+00 0.00000000e+00 0.00000000e+00]\n",
      " [2.05834836e-02 9.06374411e-09 3.41703918e-08 3.09819598e-08]\n",
      " [0.00000000e+00 0.00000000e+00 0.00000000e+00 0.00000000e+00]\n",
      " [2.58653332e-03 8.34808564e-04 3.00925373e-03 5.54149598e-01]\n",
      " [5.33857034e-04 8.60405391e-01 7.37104158e-04 7.35727561e-04]\n",
      " [9.40044979e-01 4.17317101e-05 9.17770505e-05 9.55739857e-05]\n",
      " [0.00000000e+00 0.00000000e+00 0.00000000e+00 0.00000000e+00]\n",
      " [0.00000000e+00 0.00000000e+00 0.00000000e+00 0.00000000e+00]\n",
      " [5.69275155e-02 5.20940682e-02 9.44176409e-01 3.44363303e-02]\n",
      " [5.76150867e-02 9.84690977e-01 9.08985917e-02 6.60639062e-02]\n",
      " [0.00000000e+00 0.00000000e+00 0.00000000e+00 0.00000000e+00]]\n",
      "Average reward: 0.58206\n"
     ]
    }
   ],
   "source": [
    "rewards = []\n",
    "\n",
    "for episode in range(EPISODES):\n",
    "    state = env.reset()\n",
    "    for _ in range(MAX_STEPS):\n",
    "        if RENDER:\n",
    "            env.render()\n",
    "        # code to pick action.\n",
    "        if np.random.uniform(0, 1) < epsilon: # we will check if a randomly selected value is less than epslion. \n",
    "            action = env.action_space.sample() # take random action.\n",
    "        else:\n",
    "            action = np.argmax(Q[state, :]) # use Q-Table to pick best action based on current values.\n",
    "        \n",
    "        next_state, reward, done, _ = env.step(action)\n",
    "        # formula to update Q-Table\n",
    "        Q[state, action] = Q[state, action] + LEARNING_RATE * (reward + GAMA * np.max(Q[next_state, :]) - Q[state, action])\n",
    "        \n",
    "        state = next_state\n",
    "        \n",
    "        if done:\n",
    "            rewards.append(reward)\n",
    "            epsilon -= 0.001\n",
    "            break # reached goal.\n",
    "            \n",
    "print(Q)\n",
    "print(f\"Average reward: {sum(rewards)/len(rewards)}\")"
   ]
  },
  {
   "cell_type": "code",
   "execution_count": 32,
   "id": "e404e5e3",
   "metadata": {},
   "outputs": [
    {
     "data": {
      "image/png": "[encoded data removed]",
      "text/plain": [
       "<Figure size 432x288 with 1 Axes>"
      ]
     },
     "metadata": {
      "needs_background": "light"
     },
     "output_type": "display_data"
    }
   ],
   "source": [
    "# we can plot the training progress and see how the agent improved\n",
    "import matplotlib.pyplot as plt\n",
    "\n",
    "def get_avg(values):\n",
    "    return sum(values)/len(values)\n",
    "avg_rewards = []\n",
    "\n",
    "for i in range(0, len(rewards), 100):\n",
    "    avg_rewards.append(get_avg(rewards[i:i+100]))\n",
    "    \n",
    "plt.plot(avg_rewards)\n",
    "plt.ylabel('Average Rewards')\n",
    "plt.xlabel('Episodes (100/s)')\n",
    "plt.show()"
   ]
  },
  {
   "cell_type": "markdown",
   "id": "042673cb",
   "metadata": {},
   "source": [
    "# Conclusion\n",
    "We used OpenAI GYM FrozenLake environment to trian our agent to learn from it's experience. We used Q-Learning algorithm for this problem."
   ]
  }
 ],
 "metadata": {
  "kernelspec": {
   "display_name": "Python 3 (ipykernel)",
   "language": "python",
   "name": "python3"
  },
  "language_info": {
   "codemirror_mode": {
    "name": "ipython",
    "version": 3
   },
   "file_extension": ".py",
   "mimetype": "text/x-python",
   "name": "python",
   "nbconvert_exporter": "python",
   "pygments_lexer": "ipython3",
   "version": "3.8.8"
  }
 },
 "nbformat": 4,
 "nbformat_minor": 5
}
