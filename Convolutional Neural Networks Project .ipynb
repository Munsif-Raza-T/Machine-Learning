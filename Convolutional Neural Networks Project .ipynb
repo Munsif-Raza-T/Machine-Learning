{
 "cells": [
  {
   "cell_type": "markdown",
   "id": "2cee1be1",
   "metadata": {},
   "source": [
    "# Convolutional Neural Networks Project\n",
    "\n",
    "## Munsif Raza"
   ]
  },
  {
   "cell_type": "markdown",
   "id": "4e98fd2f",
   "metadata": {},
   "source": [
    "# Dataset\n",
    "We shall use built-in dataset of Tensorflow named CIFAR Image dataset. It has 60,000 images of 32*32 pixels divided into ten different classes of real-world objects."
   ]
  },
  {
   "cell_type": "code",
   "execution_count": 17,
   "id": "d39d7ae3",
   "metadata": {},
   "outputs": [],
   "source": [
    "# Importing Libraries\n",
    "import tensorflow as tf\n",
    "from tensorflow.keras import datasets, layers, models\n",
    "import matplotlib.pyplot as plt\n",
    "import numpy as np"
   ]
  },
  {
   "cell_type": "code",
   "execution_count": 2,
   "id": "607cdd07",
   "metadata": {},
   "outputs": [
    {
     "name": "stdout",
     "output_type": "stream",
     "text": [
      "Downloading data from https://www.cs.toronto.edu/~kriz/cifar-10-python.tar.gz\n",
      "170500096/170498071 [==============================] - 110s 1us/step\n",
      "170508288/170498071 [==============================] - 110s 1us/step\n"
     ]
    }
   ],
   "source": [
    "# Loading and splitting the dataset.\n",
    "(train_images, train_labels), (test_images, test_labels) = datasets.cifar10.load_data()"
   ]
  },
  {
   "cell_type": "code",
   "execution_count": 3,
   "id": "91162f4a",
   "metadata": {},
   "outputs": [],
   "source": [
    "# Normalizing the data between 0 and 1\n",
    "train_images, test_images = train_images / 255.0 , test_images / 255.0"
   ]
  },
  {
   "cell_type": "code",
   "execution_count": 4,
   "id": "d18bc907",
   "metadata": {},
   "outputs": [],
   "source": [
    "# Classes names\n",
    "class_names = ['airplane', 'automobile', 'bird', 'cat', 'deer', 'dog', 'frog', 'horse', 'ship', 'truck']"
   ]
  },
  {
   "cell_type": "code",
   "execution_count": 7,
   "id": "92b86cce",
   "metadata": {},
   "outputs": [
    {
     "data": {
      "image/png": "[encoded data removed]",
      "text/plain": [
       "<Figure size 432x288 with 1 Axes>"
      ]
     },
     "metadata": {
      "needs_background": "light"
     },
     "output_type": "display_data"
    }
   ],
   "source": [
    "# Let's look our data\n",
    "plt.imshow(train_images[5], cmap = plt.cm.binary)\n",
    "plt.xlabel(class_names[train_labels[5][0]])\n",
    "plt.show()"
   ]
  },
  {
   "cell_type": "markdown",
   "id": "94847603",
   "metadata": {},
   "source": [
    "# CNN Architecture\n",
    "CNN consists of stack of Conv2D and MaxPooling2D layers which will extract the features from an image then it will have few Densely connected layers to predict the class of the object."
   ]
  },
  {
   "cell_type": "code",
   "execution_count": 8,
   "id": "b3d8c876",
   "metadata": {},
   "outputs": [],
   "source": [
    "model = models.Sequential()\n",
    "model.add(layers.Conv2D(32, (3, 3), activation='relu', input_shape=(32, 32, 3)))\n",
    "model.add(layers.MaxPooling2D((2, 2)))\n",
    "model.add(layers.Conv2D(64, (3, 3), activation='relu'))\n",
    "model.add(layers.MaxPooling2D((2, 2)))\n",
    "model.add(layers.Conv2D(64, (3, 3), activation='relu'))"
   ]
  },
  {
   "cell_type": "markdown",
   "id": "b98f4991",
   "metadata": {},
   "source": [
    "## Layer 1:\n",
    "It is input layer which will have 32 filters of size 3*3 and relu function will be applied as activation function.\n",
    "## Layer 2:\n",
    "It is a MaxPooling layer which will simplify the output of input layer.\n",
    "## Other layers:\n",
    "After these two layers we have some Conv2D and MaxPooling layers"
   ]
  },
  {
   "cell_type": "code",
   "execution_count": 9,
   "id": "f4f41bfe",
   "metadata": {},
   "outputs": [
    {
     "name": "stdout",
     "output_type": "stream",
     "text": [
      "Model: \"sequential\"\n",
      "_________________________________________________________________\n",
      " Layer (type)                Output Shape              Param #   \n",
      "=================================================================\n",
      " conv2d (Conv2D)             (None, 30, 30, 32)        896       \n",
      "                                                                 \n",
      " max_pooling2d (MaxPooling2D  (None, 15, 15, 32)       0         \n",
      " )                                                               \n",
      "                                                                 \n",
      " conv2d_1 (Conv2D)           (None, 13, 13, 64)        18496     \n",
      "                                                                 \n",
      " max_pooling2d_1 (MaxPooling  (None, 6, 6, 64)         0         \n",
      " 2D)                                                             \n",
      "                                                                 \n",
      " conv2d_2 (Conv2D)           (None, 4, 4, 64)          36928     \n",
      "                                                                 \n",
      "=================================================================\n",
      "Total params: 56,320\n",
      "Trainable params: 56,320\n",
      "Non-trainable params: 0\n",
      "_________________________________________________________________\n"
     ]
    }
   ],
   "source": [
    "# Summary of our model\n",
    "model.summary()"
   ]
  },
  {
   "cell_type": "markdown",
   "id": "0083b841",
   "metadata": {},
   "source": [
    "# Adding Dense Layers\n",
    "Now we are done with Convolutional Layers that has given us the features in an image. we shall add dense layers to classify it."
   ]
  },
  {
   "cell_type": "code",
   "execution_count": 10,
   "id": "0ca480e9",
   "metadata": {},
   "outputs": [],
   "source": [
    "model.add(layers.Flatten())\n",
    "model.add(layers.Dense(64, activation='relu'))\n",
    "model.add(layers.Dense(10))"
   ]
  },
  {
   "cell_type": "code",
   "execution_count": 11,
   "id": "5db05e96",
   "metadata": {},
   "outputs": [
    {
     "name": "stdout",
     "output_type": "stream",
     "text": [
      "Model: \"sequential\"\n",
      "_________________________________________________________________\n",
      " Layer (type)                Output Shape              Param #   \n",
      "=================================================================\n",
      " conv2d (Conv2D)             (None, 30, 30, 32)        896       \n",
      "                                                                 \n",
      " max_pooling2d (MaxPooling2D  (None, 15, 15, 32)       0         \n",
      " )                                                               \n",
      "                                                                 \n",
      " conv2d_1 (Conv2D)           (None, 13, 13, 64)        18496     \n",
      "                                                                 \n",
      " max_pooling2d_1 (MaxPooling  (None, 6, 6, 64)         0         \n",
      " 2D)                                                             \n",
      "                                                                 \n",
      " conv2d_2 (Conv2D)           (None, 4, 4, 64)          36928     \n",
      "                                                                 \n",
      " flatten (Flatten)           (None, 1024)              0         \n",
      "                                                                 \n",
      " dense (Dense)               (None, 64)                65600     \n",
      "                                                                 \n",
      " dense_1 (Dense)             (None, 10)                650       \n",
      "                                                                 \n",
      "=================================================================\n",
      "Total params: 122,570\n",
      "Trainable params: 122,570\n",
      "Non-trainable params: 0\n",
      "_________________________________________________________________\n"
     ]
    }
   ],
   "source": [
    "# Model Summary now\n",
    "model.summary()"
   ]
  },
  {
   "cell_type": "markdown",
   "id": "5cbeb42d",
   "metadata": {},
   "source": [
    "# Training the Model\n",
    "We are done with building the model. Now We shall compile and train it with our data."
   ]
  },
  {
   "cell_type": "code",
   "execution_count": 12,
   "id": "e5070653",
   "metadata": {},
   "outputs": [
    {
     "name": "stdout",
     "output_type": "stream",
     "text": [
      "Epoch 1/10\n",
      "1563/1563 [==============================] - 29s 17ms/step - loss: 1.5551 - accuracy: 0.4315 - val_loss: 1.3143 - val_accuracy: 0.5268\n",
      "Epoch 2/10\n",
      "1563/1563 [==============================] - 26s 17ms/step - loss: 1.2064 - accuracy: 0.5689 - val_loss: 1.2026 - val_accuracy: 0.5763\n",
      "Epoch 3/10\n",
      "1563/1563 [==============================] - 27s 17ms/step - loss: 1.0656 - accuracy: 0.6214 - val_loss: 1.0634 - val_accuracy: 0.6198\n",
      "Epoch 4/10\n",
      "1563/1563 [==============================] - 28s 18ms/step - loss: 0.9727 - accuracy: 0.6571 - val_loss: 1.0073 - val_accuracy: 0.6440\n",
      "Epoch 5/10\n",
      "1563/1563 [==============================] - 28s 18ms/step - loss: 0.9073 - accuracy: 0.6785 - val_loss: 0.9752 - val_accuracy: 0.6539\n",
      "Epoch 6/10\n",
      "1563/1563 [==============================] - 28s 18ms/step - loss: 0.8534 - accuracy: 0.6992 - val_loss: 0.9460 - val_accuracy: 0.6675\n",
      "Epoch 7/10\n",
      "1563/1563 [==============================] - 27s 17ms/step - loss: 0.8034 - accuracy: 0.7171 - val_loss: 0.9422 - val_accuracy: 0.6766\n",
      "Epoch 8/10\n",
      "1563/1563 [==============================] - 27s 18ms/step - loss: 0.7610 - accuracy: 0.7336 - val_loss: 0.9459 - val_accuracy: 0.6752\n",
      "Epoch 9/10\n",
      "1563/1563 [==============================] - 28s 18ms/step - loss: 0.7225 - accuracy: 0.7460 - val_loss: 0.8993 - val_accuracy: 0.6872\n",
      "Epoch 10/10\n",
      "1563/1563 [==============================] - 28s 18ms/step - loss: 0.6894 - accuracy: 0.7554 - val_loss: 0.9217 - val_accuracy: 0.6947\n"
     ]
    }
   ],
   "source": [
    "model.compile(optimizer='adam',\n",
    "              loss=tf.keras.losses.SparseCategoricalCrossentropy(from_logits=True),\n",
    "              metrics=['accuracy'])\n",
    "\n",
    "history = model.fit(train_images, train_labels, epochs=10, \n",
    "                    validation_data=(test_images, test_labels))"
   ]
  },
  {
   "cell_type": "markdown",
   "id": "232c65b5",
   "metadata": {},
   "source": [
    "# Evaluating the Model\n",
    "Now we are done with training let's evaluate our model that how we it is doing."
   ]
  },
  {
   "cell_type": "code",
   "execution_count": 13,
   "id": "84483b06",
   "metadata": {},
   "outputs": [
    {
     "name": "stdout",
     "output_type": "stream",
     "text": [
      "313/313 - 2s - loss: 0.9217 - accuracy: 0.6947 - 2s/epoch - 6ms/step\n"
     ]
    },
    {
     "data": {
      "image/png": "[encoded data removed]",
      "text/plain": [
       "<Figure size 432x288 with 1 Axes>"
      ]
     },
     "metadata": {
      "needs_background": "light"
     },
     "output_type": "display_data"
    }
   ],
   "source": [
    "plt.plot(history.history['accuracy'], label='accuracy')\n",
    "plt.plot(history.history['val_accuracy'], label = 'val_accuracy')\n",
    "plt.xlabel('Epoch')\n",
    "plt.ylabel('Accuracy')\n",
    "plt.ylim([0.5, 1])\n",
    "plt.legend(loc='lower right')\n",
    "\n",
    "test_loss, test_acc = model.evaluate(test_images,  test_labels, verbose=2)"
   ]
  },
  {
   "cell_type": "code",
   "execution_count": 23,
   "id": "7c8a04f1",
   "metadata": {},
   "outputs": [
    {
     "name": "stdout",
     "output_type": "stream",
     "text": [
      "Accuracy: 0.6947000026702881\n"
     ]
    }
   ],
   "source": [
    "print('Accuracy:', test_acc)"
   ]
  },
  {
   "cell_type": "markdown",
   "id": "2928edfa",
   "metadata": {},
   "source": [
    "# Making Predictions\n",
    "We shall make predictions using new data to the model."
   ]
  },
  {
   "cell_type": "code",
   "execution_count": 15,
   "id": "5c454eef",
   "metadata": {},
   "outputs": [],
   "source": [
    "predictions = model.predict(test_images)"
   ]
  },
  {
   "cell_type": "code",
   "execution_count": 18,
   "id": "5d1aea32",
   "metadata": {},
   "outputs": [
    {
     "name": "stdout",
     "output_type": "stream",
     "text": [
      "3\n"
     ]
    }
   ],
   "source": [
    "# We are getting here array of Probability distribution let's see which class is this.\n",
    "print(np.argmax(predictions[0]))"
   ]
  },
  {
   "cell_type": "code",
   "execution_count": 19,
   "id": "6c69433e",
   "metadata": {},
   "outputs": [
    {
     "name": "stdout",
     "output_type": "stream",
     "text": [
      "cat\n"
     ]
    }
   ],
   "source": [
    "# Let's see what's that in classes\n",
    "print(class_names[np.argmax(predictions[0])])"
   ]
  },
  {
   "cell_type": "code",
   "execution_count": 20,
   "id": "e7b824cb",
   "metadata": {},
   "outputs": [
    {
     "data": {
      "image/png": "[encoded data removed]",
      "text/plain": [
       "<Figure size 432x288 with 2 Axes>"
      ]
     },
     "metadata": {
      "needs_background": "light"
     },
     "output_type": "display_data"
    }
   ],
   "source": [
    "# Let's see is it really an ankle boot in testing data.\n",
    "plt.figure()\n",
    "plt.imshow(test_images[0])\n",
    "plt.colorbar()\n",
    "plt.grid(False)\n",
    "plt.show()"
   ]
  },
  {
   "cell_type": "markdown",
   "id": "0450aefa",
   "metadata": {},
   "source": [
    "# Conclusion:\n",
    "We made a Convolutional Neural Network model. In which we used Conv2D, MaxPooling and Dense layers. We trained this model with TensorFlow's built-in dataset named CIFAR10 dataset. And at the end we made prediction."
   ]
  }
 ],
 "metadata": {
  "kernelspec": {
   "display_name": "Python 3 (ipykernel)",
   "language": "python",
   "name": "python3"
  },
  "language_info": {
   "codemirror_mode": {
    "name": "ipython",
    "version": 3
   },
   "file_extension": ".py",
   "mimetype": "text/x-python",
   "name": "python",
   "nbconvert_exporter": "python",
   "pygments_lexer": "ipython3",
   "version": "3.8.8"
  }
 },
 "nbformat": 4,
 "nbformat_minor": 5
}
