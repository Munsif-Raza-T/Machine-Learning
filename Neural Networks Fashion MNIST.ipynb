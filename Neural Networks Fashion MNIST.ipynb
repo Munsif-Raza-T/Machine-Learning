{
 "cells": [
  {
   "cell_type": "markdown",
   "id": "5e66e23a",
   "metadata": {},
   "source": [
    "# MNIST Fashion Dataset Neural Networks Model\n",
    "## Munsif Raza"
   ]
  },
  {
   "cell_type": "code",
   "execution_count": 1,
   "id": "95ab283e",
   "metadata": {},
   "outputs": [],
   "source": [
    "#Importing Libraries\n",
    "import tensorflow as tf\n",
    "from tensorflow import keras\n",
    "import numpy as np\n",
    "import matplotlib.pyplot as plt"
   ]
  },
  {
   "cell_type": "markdown",
   "id": "312e89c5",
   "metadata": {},
   "source": [
    "# Dataset\n",
    "We shall use MNIST fashion dataset.\n",
    "This dataset includes 60,000 images for training and 10,000 images for validation."
   ]
  },
  {
   "cell_type": "code",
   "execution_count": 2,
   "id": "bf2fc34d",
   "metadata": {},
   "outputs": [
    {
     "name": "stdout",
     "output_type": "stream",
     "text": [
      "Downloading data from https://storage.googleapis.com/tensorflow/tf-keras-datasets/train-labels-idx1-ubyte.gz\n",
      "32768/29515 [=================================] - 0s 2us/step\n",
      "40960/29515 [=========================================] - 0s 1us/step\n",
      "Downloading data from https://storage.googleapis.com/tensorflow/tf-keras-datasets/train-images-idx3-ubyte.gz\n",
      "26427392/26421880 [==============================] - 8s 0us/step\n",
      "26435584/26421880 [==============================] - 8s 0us/step\n",
      "Downloading data from https://storage.googleapis.com/tensorflow/tf-keras-datasets/t10k-labels-idx1-ubyte.gz\n",
      "16384/5148 [===============================================================================================] - 0s 0s/step\n",
      "Downloading data from https://storage.googleapis.com/tensorflow/tf-keras-datasets/t10k-images-idx3-ubyte.gz\n",
      "4423680/4422102 [==============================] - 2s 0us/step\n",
      "4431872/4422102 [==============================] - 2s 0us/step\n"
     ]
    }
   ],
   "source": [
    "# Laoding dataset\n",
    "fashion_mnist = keras.datasets.fashion_mnist\n",
    "#spliting data into training and testing data.\n",
    "(train_images, train_labels), (test_images, test_labels) = fashion_mnist.load_data()"
   ]
  },
  {
   "cell_type": "code",
   "execution_count": 3,
   "id": "75dc1374",
   "metadata": {},
   "outputs": [
    {
     "name": "stdout",
     "output_type": "stream",
     "text": [
      "(60000, 28, 28)\n",
      "(10000, 28, 28)\n"
     ]
    }
   ],
   "source": [
    "# Let's have a look on data\n",
    "print(train_images.shape)\n",
    "print(test_images.shape)"
   ]
  },
  {
   "cell_type": "markdown",
   "id": "78a0d18a",
   "metadata": {},
   "source": [
    "What this tells is that we have 60,000 Training images and 10,000 testing images. Each image is of 28*28 pixels."
   ]
  },
  {
   "cell_type": "code",
   "execution_count": 4,
   "id": "2011a082",
   "metadata": {},
   "outputs": [
    {
     "data": {
      "text/plain": [
       "array([9, 0, 0, 3, 0, 2, 7, 2, 5, 5], dtype=uint8)"
      ]
     },
     "execution_count": 4,
     "metadata": {},
     "output_type": "execute_result"
    }
   ],
   "source": [
    "train_labels[:10]"
   ]
  },
  {
   "cell_type": "markdown",
   "id": "1ad3cdc0",
   "metadata": {},
   "source": [
    "This shows we have labels between 0 to 9. Each integer represents an specific article of clothing."
   ]
  },
  {
   "cell_type": "code",
   "execution_count": 5,
   "id": "5888ceeb",
   "metadata": {},
   "outputs": [],
   "source": [
    "# Let's assign name to each article\n",
    "class_names = ['T-Shirt', 'Trouser', 'Pullover', 'Dress', 'Coat', 'Sandal', 'Shirt', 'Sneaker', 'Bag', 'Ankle boot']"
   ]
  },
  {
   "cell_type": "code",
   "execution_count": 15,
   "id": "8168c643",
   "metadata": {},
   "outputs": [
    {
     "data": {
      "image/png": "[encoded data removed]",
      "text/plain": [
       "<Figure size 432x288 with 2 Axes>"
      ]
     },
     "metadata": {
      "needs_background": "light"
     },
     "output_type": "display_data"
    }
   ],
   "source": [
    "# Let's look some of these images.\n",
    "plt.figure()\n",
    "plt.imshow(train_images[5])\n",
    "plt.colorbar()\n",
    "plt.grid(False)\n",
    "plt.show()"
   ]
  },
  {
   "cell_type": "markdown",
   "id": "0e137016",
   "metadata": {},
   "source": [
    "Great!! Looks like a shirt it is."
   ]
  },
  {
   "cell_type": "markdown",
   "id": "80c5117c",
   "metadata": {},
   "source": [
    "# Data Preprocessing\n",
    "Data preprocessing is done to make our data model usable. Here as we know it a greyscale pixeled image means we shall have values between 0 to 255. We shall convert all those values between 0 and 1. Because smaller the values easier and efficient training we shall have."
   ]
  },
  {
   "cell_type": "code",
   "execution_count": 16,
   "id": "e03e221e",
   "metadata": {},
   "outputs": [],
   "source": [
    "train_images = train_images / 255.0\n",
    "test_images = test_images / 255.0"
   ]
  },
  {
   "cell_type": "markdown",
   "id": "6fd77119",
   "metadata": {},
   "source": [
    "# Building the Model\n",
    "Now it's time to build the model. We shall use Keras Sequential model with three different layers."
   ]
  },
  {
   "cell_type": "code",
   "execution_count": 18,
   "id": "fd17eae9",
   "metadata": {},
   "outputs": [],
   "source": [
    "model = keras.Sequential([\n",
    "    keras.layers.Flatten(input_shape=(28,28)), #input layer(1)\n",
    "    keras.layers.Dense(128, activation='relu'), #hidden layer(2)\n",
    "    keras.layers.Dense(10, activation='softmax') #output layer(3)\n",
    "])"
   ]
  },
  {
   "cell_type": "markdown",
   "id": "9eaf3979",
   "metadata": {},
   "source": [
    "### Layer 1:\n",
    "This is input layer which has 784 neurons considering the fact that one image is 28*28 pixels. We have Flattened all those values from matrix to row matrix.\n",
    "### Layer  2:\n",
    "It is hidden layer having 128 neurons and using relu activation function.\n",
    "### Layer 3:\n",
    "This is output layer having ten neurons. Because we have tens classes of end result. Softmax is the activation function that ensures sum of all output neurons should be equal to 1. And shall predict using probability distribution."
   ]
  },
  {
   "cell_type": "markdown",
   "id": "5e671a8a",
   "metadata": {},
   "source": [
    "# Compile the Model\n",
    "Last step in making model is to define the loss function, optimizer, and metrics we would like to track."
   ]
  },
  {
   "cell_type": "code",
   "execution_count": 19,
   "id": "63812fa5",
   "metadata": {},
   "outputs": [],
   "source": [
    "model.compile(optimizer='adam',\n",
    "             loss='sparse_categorical_crossentropy',\n",
    "             metrics=['accuracy'])"
   ]
  },
  {
   "cell_type": "markdown",
   "id": "7959731f",
   "metadata": {},
   "source": [
    "# Training the Model\n",
    "Now when we are done with model building. We shall train our model now."
   ]
  },
  {
   "cell_type": "code",
   "execution_count": 22,
   "id": "18bf5089",
   "metadata": {},
   "outputs": [
    {
     "name": "stdout",
     "output_type": "stream",
     "text": [
      "Epoch 1/8\n",
      "1875/1875 [==============================] - 5s 2ms/step - loss: 0.2304 - accuracy: 0.9142\n",
      "Epoch 2/8\n",
      "1875/1875 [==============================] - 5s 2ms/step - loss: 0.2230 - accuracy: 0.9170\n",
      "Epoch 3/8\n",
      "1875/1875 [==============================] - 5s 3ms/step - loss: 0.2156 - accuracy: 0.9193\n",
      "Epoch 4/8\n",
      "1875/1875 [==============================] - 4s 2ms/step - loss: 0.2114 - accuracy: 0.9198\n",
      "Epoch 5/8\n",
      "1875/1875 [==============================] - 5s 3ms/step - loss: 0.2050 - accuracy: 0.9227\n",
      "Epoch 6/8\n",
      "1875/1875 [==============================] - 4s 2ms/step - loss: 0.2000 - accuracy: 0.9253\n",
      "Epoch 7/8\n",
      "1875/1875 [==============================] - 4s 2ms/step - loss: 0.1933 - accuracy: 0.9279\n",
      "Epoch 8/8\n",
      "1875/1875 [==============================] - 4s 2ms/step - loss: 0.1872 - accuracy: 0.9292\n"
     ]
    },
    {
     "data": {
      "text/plain": [
       "<keras.callbacks.History at 0x2d1ff9761f0>"
      ]
     },
     "execution_count": 22,
     "metadata": {},
     "output_type": "execute_result"
    }
   ],
   "source": [
    "model.fit(train_images, train_labels, epochs=8)"
   ]
  },
  {
   "cell_type": "markdown",
   "id": "831b7265",
   "metadata": {},
   "source": [
    "# Evaluating the Model\n",
    "When training is done here we shall evaluate our model using testing data."
   ]
  },
  {
   "cell_type": "code",
   "execution_count": 23,
   "id": "41621f86",
   "metadata": {},
   "outputs": [
    {
     "name": "stdout",
     "output_type": "stream",
     "text": [
      "313/313 [==============================] - 1s 2ms/step - loss: 0.3343 - accuracy: 0.8907\n",
      "Test Accuracy:  0.8906999826431274\n"
     ]
    }
   ],
   "source": [
    "test_loss, test_accuracy = model.evaluate(test_images, test_labels, verbose=1)\n",
    "print('Test Accuracy: ' , test_accuracy)"
   ]
  },
  {
   "cell_type": "markdown",
   "id": "b098d0ca",
   "metadata": {},
   "source": [
    "# Making Predictions\n",
    "We shall make predictions using new data to the model."
   ]
  },
  {
   "cell_type": "code",
   "execution_count": 24,
   "id": "e73f84c9",
   "metadata": {},
   "outputs": [],
   "source": [
    "predictions = model.predict(test_images)"
   ]
  },
  {
   "cell_type": "code",
   "execution_count": 26,
   "id": "70cbe810",
   "metadata": {},
   "outputs": [
    {
     "data": {
      "text/plain": [
       "array([4.09865086e-10, 7.04364345e-10, 1.14095755e-11, 2.94797363e-13,\n",
       "       9.95541080e-11, 3.26057343e-04, 2.43921910e-10, 2.04445748e-03,\n",
       "       4.31307177e-11, 9.97629464e-01], dtype=float32)"
      ]
     },
     "execution_count": 26,
     "metadata": {},
     "output_type": "execute_result"
    }
   ],
   "source": [
    "# We have an array of predictions for each testing image to let's see one of it.\n",
    "predictions[0]"
   ]
  },
  {
   "cell_type": "code",
   "execution_count": 27,
   "id": "d30c5c79",
   "metadata": {},
   "outputs": [
    {
     "name": "stdout",
     "output_type": "stream",
     "text": [
      "9\n"
     ]
    }
   ],
   "source": [
    "# We are getting here array of Probability distribution let's see which class is this.\n",
    "print(np.argmax(predictions[0]))"
   ]
  },
  {
   "cell_type": "code",
   "execution_count": 28,
   "id": "3e5a9df2",
   "metadata": {},
   "outputs": [
    {
     "name": "stdout",
     "output_type": "stream",
     "text": [
      "Ankle boot\n"
     ]
    }
   ],
   "source": [
    "# Let's see what's that in classes\n",
    "print(class_names[np.argmax(predictions[0])])"
   ]
  },
  {
   "cell_type": "code",
   "execution_count": 29,
   "id": "53fea607",
   "metadata": {},
   "outputs": [
    {
     "data": {
      "image/png": "[encoded data removed]",
      "text/plain": [
       "<Figure size 432x288 with 2 Axes>"
      ]
     },
     "metadata": {
      "needs_background": "light"
     },
     "output_type": "display_data"
    }
   ],
   "source": [
    "# Let's see is it really an ankle boot in testing data.\n",
    "plt.figure()\n",
    "plt.imshow(test_images[0])\n",
    "plt.colorbar()\n",
    "plt.grid(False)\n",
    "plt.show()"
   ]
  },
  {
   "cell_type": "markdown",
   "id": "d98a8503",
   "metadata": {},
   "source": [
    "# Conclusion:\n",
    "We made a model using Neural networks. Fitted it with MNIST Fashion dataset. In which we got 89% accuracy rate model. Then finally we evaluated the model and made successful prediction."
   ]
  }
 ],
 "metadata": {
  "kernelspec": {
   "display_name": "Python 3 (ipykernel)",
   "language": "python",
   "name": "python3"
  },
  "language_info": {
   "codemirror_mode": {
    "name": "ipython",
    "version": 3
   },
   "file_extension": ".py",
   "mimetype": "text/x-python",
   "name": "python",
   "nbconvert_exporter": "python",
   "pygments_lexer": "ipython3",
   "version": "3.8.8"
  }
 },
 "nbformat": 4,
 "nbformat_minor": 5
}
