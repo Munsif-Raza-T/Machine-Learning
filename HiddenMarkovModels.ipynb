{
 "cells": [
  {
   "cell_type": "markdown",
   "id": "72237217",
   "metadata": {},
   "source": [
    "# Hidden Markov Model\n",
    "## Munsif Raza"
   ]
  },
  {
   "cell_type": "code",
   "execution_count": 12,
   "id": "4314745b",
   "metadata": {},
   "outputs": [],
   "source": [
    "# Importing requirements.\n",
    "import tensorflow_probability as tfp\n",
    "import tensorflow as tf"
   ]
  },
  {
   "cell_type": "markdown",
   "id": "57f096d7",
   "metadata": {},
   "source": [
    "A simple weather model.\n",
    "\n",
    "Represent a cold day with 0 and a hot day with 1.\n",
    "Suppose the first day of a sequence has a 0.8 chance of being cold.\n",
    "Suppose a cold day has a 30% chance of being followed by a hot day\n",
    "and a hot day has a 20% chance of being followed by a cold day.\n",
    "Suppose additionally that on each day the temperature is\n",
    "normally distributed with mean and standard deviation 0 and 5 on\n",
    "a cold day and mean and standard deviation 15 and 10 on a hot day."
   ]
  },
  {
   "cell_type": "code",
   "execution_count": 13,
   "id": "7738e1c3",
   "metadata": {},
   "outputs": [],
   "source": [
    "tfd = tfp.distributions # making shortcut\n",
    "initial_distribution = tfd.Categorical(probs=[0.8, 0.2])\n",
    "transition_distribution = tfd.Categorical(probs=[[0.7, 0.3], [0.2, 0.8]])\n",
    "observation_distribution = tfd.Normal(loc=[0., 15.], scale=[5., 10.])\n",
    "\n",
    "#These all are requirements of the project. Which is about weather predictions"
   ]
  },
  {
   "cell_type": "code",
   "execution_count": 14,
   "id": "1248f3e1",
   "metadata": {},
   "outputs": [],
   "source": [
    "# Creating model\n",
    "model = tfd.HiddenMarkovModel(\n",
    "initial_distribution=initial_distribution,\n",
    "transition_distribution=transition_distribution,\n",
    "observation_distribution=observation_distribution,\n",
    "num_steps = 7)\n",
    "# Here 7 represents the 7 days of a week for which we are going to make predictions."
   ]
  },
  {
   "cell_type": "code",
   "execution_count": 15,
   "id": "ac8fc107",
   "metadata": {},
   "outputs": [
    {
     "name": "stdout",
     "output_type": "stream",
     "text": [
      "[2.9999998 5.9999995 7.4999995 8.25      8.625     8.812501  8.90625  ]\n"
     ]
    }
   ],
   "source": [
    "mean = model.mean()\n",
    "\n",
    "with tf.compat.v1.Session() as sess:\n",
    "    print(mean.numpy())"
   ]
  },
  {
   "cell_type": "markdown",
   "id": "10d4dc38",
   "metadata": {},
   "source": [
    "# Conclusion\n",
    "We have got here 7 days' temperature data using just the probability states and transitions."
   ]
  }
 ],
 "metadata": {
  "kernelspec": {
   "display_name": "Python 3 (ipykernel)",
   "language": "python",
   "name": "python3"
  },
  "language_info": {
   "codemirror_mode": {
    "name": "ipython",
    "version": 3
   },
   "file_extension": ".py",
   "mimetype": "text/x-python",
   "name": "python",
   "nbconvert_exporter": "python",
   "pygments_lexer": "ipython3",
   "version": "3.8.8"
  }
 },
 "nbformat": 4,
 "nbformat_minor": 5
}
