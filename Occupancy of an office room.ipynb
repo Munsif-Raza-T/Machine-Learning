{
 "cells": [
  {
   "cell_type": "markdown",
   "id": "bab2fb0e",
   "metadata": {},
   "source": [
    "# Importing required Libraries"
   ]
  },
  {
   "cell_type": "code",
   "execution_count": 13,
   "id": "7677e6dd",
   "metadata": {},
   "outputs": [],
   "source": [
    "import pandas as pd # for data manipulation\n",
    "import numpy as np # for data manipulation\n",
    "from matplotlib import pyplot # for data visulization\n",
    "from tensorflow import keras # for building Neural Networks\n",
    "from keras.models import Sequential # for creating a linear stack of layers for our Neural Network\n",
    "from keras import Input # for instantiating a keras tensor\n",
    "from keras.layers import Dense # for creating regular densely-connected NN layers.\n",
    "# for checking accuracy scores\n",
    "from sklearn.metrics import accuracy_score\n",
    "from sklearn.metrics import precision_score\n",
    "from sklearn.metrics import recall_score\n",
    "from sklearn.metrics import classification_report # for model evaluation metrics\n",
    "from sklearn.metrics import confusion_matrix\n",
    "from sklearn.model_selection import train_test_split # for spliting data into train test data.\n",
    "import matplotlib.pyplot as plt"
   ]
  },
  {
   "cell_type": "markdown",
   "id": "82835bc5",
   "metadata": {},
   "source": [
    "# Importing Dataset\n",
    "Experimental data used for binary classification (room occupancy) from Temperature,Humidity,Light and CO2. Ground-truth occupancy was obtained from time stamped pictures that were taken every minute.\n",
    "\n",
    "date time year-month-day hour:minute:second\n",
    "Temperature, in Celsius\n",
    "Relative Humidity, %\n",
    "Light, in Lux\n",
    "CO2, in ppm\n",
    "Humidity Ratio, Derived quantity from temperature and relative humidity, in kgwater-vapor/kg-air\n",
    "Occupancy, 0 or 1, 0 for not occupied, 1 for occupied status"
   ]
  },
  {
   "cell_type": "code",
   "execution_count": 2,
   "id": "ad99c1fe",
   "metadata": {},
   "outputs": [
    {
     "name": "stderr",
     "output_type": "stream",
     "text": [
      "/tmp/ipykernel_17665/2640172379.py:2: FutureWarning: The squeeze argument has been deprecated and will be removed in a future version. Append .squeeze(\"columns\") to the call to squeeze.\n",
      "\n",
      "\n",
      "  testData = pd.read_csv('datatest.txt', header=0, index_col=1, parse_dates=True, squeeze=True)\n",
      "/tmp/ipykernel_17665/2640172379.py:3: FutureWarning: The squeeze argument has been deprecated and will be removed in a future version. Append .squeeze(\"columns\") to the call to squeeze.\n",
      "\n",
      "\n",
      "  trainData = pd.read_csv('datatraining.txt', header=0, index_col=1, parse_dates=True, squeeze=True)\n",
      "/tmp/ipykernel_17665/2640172379.py:4: FutureWarning: The squeeze argument has been deprecated and will be removed in a future version. Append .squeeze(\"columns\") to the call to squeeze.\n",
      "\n",
      "\n",
      "  testData1 = pd.read_csv('datatest2.txt', header=0, index_col=1, parse_dates=True, squeeze=True)\n"
     ]
    }
   ],
   "source": [
    "# load all datasets\n",
    "testData = pd.read_csv('datatest.txt', header=0, index_col=1, parse_dates=True, squeeze=True)\n",
    "trainData = pd.read_csv('datatraining.txt', header=0, index_col=1, parse_dates=True, squeeze=True)\n",
    "testData1 = pd.read_csv('datatest2.txt', header=0, index_col=1, parse_dates=True, squeeze=True)\n",
    "\n",
    "# vertically stack datasets\n",
    "data = pd.concat([testData, trainData, testData1])\n",
    "\n",
    "# drop row number\n",
    "data.drop('date', axis=1, inplace=True)\n",
    "\n",
    "# save aggregated dataset\n",
    "data.to_csv('occupancy.csv')"
   ]
  },
  {
   "cell_type": "markdown",
   "id": "050594e3",
   "metadata": {},
   "source": [
    "##### This is a pre-processed datasets so there is no need to pre-process it."
   ]
  },
  {
   "cell_type": "markdown",
   "id": "0fb9ca3a",
   "metadata": {},
   "source": [
    "## Spliting dataset"
   ]
  },
  {
   "cell_type": "code",
   "execution_count": 3,
   "id": "1a7c2096",
   "metadata": {
    "scrolled": true
   },
   "outputs": [
    {
     "name": "stderr",
     "output_type": "stream",
     "text": [
      "/tmp/ipykernel_17665/2855591344.py:2: FutureWarning: The squeeze argument has been deprecated and will be removed in a future version. Append .squeeze(\"columns\") to the call to squeeze.\n",
      "\n",
      "\n",
      "  data = pd.read_csv('occupancy.csv', header=0, index_col=0, parse_dates=True, squeeze=True)\n"
     ]
    }
   ],
   "source": [
    "# load the dataset\n",
    "data = pd.read_csv('occupancy.csv', header=0, index_col=0, parse_dates=True, squeeze=True)\n",
    "values = data.values\n",
    "# split data into inputs and outputs\n",
    "X, y = values[:, :-1], values[:, -1]\n",
    "# split the dataset\n",
    "X_train, X_test, y_train, y_test = train_test_split(X, y, test_size=0.3, shuffle=False, random_state=1)"
   ]
  },
  {
   "cell_type": "markdown",
   "id": "0a1daa67",
   "metadata": {},
   "source": [
    "# Model Building and Training"
   ]
  },
  {
   "cell_type": "code",
   "execution_count": 26,
   "id": "695fa41e",
   "metadata": {},
   "outputs": [],
   "source": [
    "# specifying the structure of neural network.\n",
    "model = Sequential(name=\"Model-Input\") # Model\n",
    "model.add(Input(shape=(5,), name='Input-Layer')) # Input Layer - need to speicfy the shape of inputs\n",
    "model.add(Dense(3, activation='softplus', name='Hidden-Layer')) # Hidden Layer, softplus(x) = log(exp(x) + 1)\n",
    "model.add(Dense(1, activation='sigmoid', name='Output-Layer')) # Output Layer, sigmoid(x) = 1 / (1 + exp(-x))"
   ]
  },
  {
   "cell_type": "code",
   "execution_count": 27,
   "id": "80132ea4",
   "metadata": {},
   "outputs": [],
   "source": [
    "# Compiling model\n",
    "model.compile(optimizer='adam', # default='rmsprop', an algorithm to be used in backpropagation\n",
    "              loss='binary_crossentropy', # Loss function to be optimized. A string (name of loss function), or a tf.keras.losses.Loss instance.\n",
    "              metrics=['Accuracy', 'Precision', 'Recall'], # List of metrics to be evaluated by the model during training and testing. Each of this can be a string (name of a built-in function), function or a tf.keras.metrics.Metric instance. \n",
    "              loss_weights=None, # default=None, Optional list or dictionary specifying scalar coefficients (Python floats) to weight the loss contributions of different model outputs.\n",
    "              weighted_metrics=None, # default=None, List of metrics to be evaluated and weighted by sample_weight or class_weight during training and testing.\n",
    "              run_eagerly=None, # Defaults to False. If True, this Model's logic will not be wrapped in a tf.function. Recommended to leave this as None unless your Model cannot be run inside a tf.function.\n",
    "              steps_per_execution=None # Defaults to 1. The number of batches to run during each tf.function call. Running multiple batches inside a single tf.function call can greatly improve performance on TPUs or small models with a large Python overhead.\n",
    "             )"
   ]
  },
  {
   "cell_type": "code",
   "execution_count": 28,
   "id": "bfdbfd45",
   "metadata": {},
   "outputs": [
    {
     "name": "stdout",
     "output_type": "stream",
     "text": [
      "Epoch 1/10\n",
      "1440/1440 [==============================] - 1s 720us/step - loss: 0.1987 - Accuracy: 0.9064 - precision: 0.7380 - recall: 0.9786\n",
      "Epoch 2/10\n",
      "1440/1440 [==============================] - 1s 721us/step - loss: 0.1421 - Accuracy: 0.9343 - precision: 0.7952 - recall: 0.9981\n",
      "Epoch 3/10\n",
      "1440/1440 [==============================] - 1s 740us/step - loss: 0.1285 - Accuracy: 0.9398 - precision: 0.8092 - recall: 0.9984\n",
      "Epoch 4/10\n",
      "1440/1440 [==============================] - 1s 713us/step - loss: 0.1173 - Accuracy: 0.9451 - precision: 0.8232 - recall: 0.9981\n",
      "Epoch 5/10\n",
      "1440/1440 [==============================] - 1s 714us/step - loss: 0.1065 - Accuracy: 0.9575 - precision: 0.8575 - recall: 0.9984\n",
      "Epoch 6/10\n",
      "1440/1440 [==============================] - 1s 712us/step - loss: 0.0951 - Accuracy: 0.9673 - precision: 0.8875 - recall: 0.9975\n",
      "Epoch 7/10\n",
      "1440/1440 [==============================] - 1s 721us/step - loss: 0.0870 - Accuracy: 0.9723 - precision: 0.9039 - recall: 0.9967\n",
      "Epoch 8/10\n",
      "1440/1440 [==============================] - 1s 710us/step - loss: 0.0843 - Accuracy: 0.9759 - precision: 0.9157 - recall: 0.9967\n",
      "Epoch 9/10\n",
      "1440/1440 [==============================] - 1s 722us/step - loss: 0.0816 - Accuracy: 0.9780 - precision: 0.9236 - recall: 0.9956\n",
      "Epoch 10/10\n",
      "1440/1440 [==============================] - 1s 700us/step - loss: 0.0792 - Accuracy: 0.9789 - precision: 0.9282 - recall: 0.9937\n"
     ]
    }
   ],
   "source": [
    "# Training model using training data\n",
    "history = model.fit(X_train, y_train, batch_size=10, epochs=10, shuffle=True)"
   ]
  },
  {
   "cell_type": "code",
   "execution_count": 29,
   "id": "1831a5cb",
   "metadata": {},
   "outputs": [],
   "source": [
    "# Making predictions.\n",
    "pred_train = (model.predict(X_train) > 0.5).astype(int) # using training data\n",
    "pred_test = (model.predict(X_test) > 0.5).astype(int) # using testing data"
   ]
  },
  {
   "cell_type": "markdown",
   "id": "172a535c",
   "metadata": {},
   "source": [
    "# Model Performance Summary"
   ]
  },
  {
   "cell_type": "code",
   "execution_count": 30,
   "id": "4b0832df",
   "metadata": {},
   "outputs": [
    {
     "name": "stdout",
     "output_type": "stream",
     "text": [
      "Model: \"Model-Input\"\n",
      "_________________________________________________________________\n",
      " Layer (type)                Output Shape              Param #   \n",
      "=================================================================\n",
      " Hidden-Layer (Dense)        (None, 3)                 18        \n",
      "                                                                 \n",
      " Output-Layer (Dense)        (None, 1)                 4         \n",
      "                                                                 \n",
      "=================================================================\n",
      "Total params: 22\n",
      "Trainable params: 22\n",
      "Non-trainable params: 0\n",
      "_________________________________________________________________\n"
     ]
    }
   ],
   "source": [
    "# model summary\n",
    "model.summary()"
   ]
  },
  {
   "cell_type": "code",
   "execution_count": 31,
   "id": "e10f2f28",
   "metadata": {},
   "outputs": [
    {
     "name": "stdout",
     "output_type": "stream",
     "text": [
      "Layer:  Hidden-Layer\n",
      "  --Kernels (Weights):  [[ 0.09196211  0.18722719 -2.1995103 ]\n",
      " [-0.18996994  0.521987   -1.6762264 ]\n",
      " [ 0.11457312 -0.07438239  0.28166425]\n",
      " [-0.25631693 -0.01723089  0.06438698]\n",
      " [-0.02128053 -0.267908   -1.2838439 ]]\n",
      "  --Biases:  [-0.02546623  0.93112534 -2.586357  ]\n",
      "Layer:  Output-Layer\n",
      "  --Kernels (Weights):  [[-0.71507424]\n",
      " [-0.718955  ]\n",
      " [ 0.05229846]]\n",
      "  --Biases:  [-2.299334]\n"
     ]
    }
   ],
   "source": [
    "# Weights and Biases\n",
    "for layer in model.layers:\n",
    "    print(\"Layer: \", layer.name) # print layer name\n",
    "    print(\"  --Kernels (Weights): \", layer.get_weights()[0]) # weights\n",
    "    print(\"  --Biases: \", layer.get_weights()[1]) # biases"
   ]
  },
  {
   "cell_type": "code",
   "execution_count": 32,
   "id": "c92cd24c",
   "metadata": {},
   "outputs": [
    {
     "name": "stdout",
     "output_type": "stream",
     "text": [
      "              precision    recall  f1-score   support\n",
      "\n",
      "         0.0       1.00      0.98      0.99     10739\n",
      "         1.0       0.94      0.99      0.97      3653\n",
      "\n",
      "    accuracy                           0.98     14392\n",
      "   macro avg       0.97      0.99      0.98     14392\n",
      "weighted avg       0.98      0.98      0.98     14392\n",
      "\n"
     ]
    }
   ],
   "source": [
    "# Evaluation on training data\n",
    "print(classification_report(y_train, pred_train))"
   ]
  },
  {
   "cell_type": "code",
   "execution_count": 33,
   "id": "116d576c",
   "metadata": {},
   "outputs": [
    {
     "name": "stdout",
     "output_type": "stream",
     "text": [
      "              precision    recall  f1-score   support\n",
      "\n",
      "         0.0       1.00      0.99      1.00      5071\n",
      "         1.0       0.98      1.00      0.99      1097\n",
      "\n",
      "    accuracy                           1.00      6168\n",
      "   macro avg       0.99      1.00      0.99      6168\n",
      "weighted avg       1.00      1.00      1.00      6168\n",
      "\n"
     ]
    }
   ],
   "source": [
    "# Evaluation on testing data\n",
    "print(classification_report(y_test, pred_test))"
   ]
  },
  {
   "cell_type": "code",
   "execution_count": 34,
   "id": "99d03437",
   "metadata": {},
   "outputs": [
    {
     "name": "stdout",
     "output_type": "stream",
     "text": [
      "[[5043   28]\n",
      " [   2 1095]]\n"
     ]
    },
    {
     "name": "stderr",
     "output_type": "stream",
     "text": [
      "/tmp/ipykernel_17665/3397541056.py:10: UserWarning: FixedFormatter should only be used together with FixedLocator\n",
      "  ax.set_xticklabels([''] + labels)\n",
      "/tmp/ipykernel_17665/3397541056.py:11: UserWarning: FixedFormatter should only be used together with FixedLocator\n",
      "  ax.set_yticklabels([''] + labels)\n"
     ]
    },
    {
     "data": {
      "image/png": "[encoded data removed]",
      "text/plain": [
       "<Figure size 432x288 with 2 Axes>"
      ]
     },
     "metadata": {
      "needs_background": "light"
     },
     "output_type": "display_data"
    }
   ],
   "source": [
    "# Confusion matrix\n",
    "labels = ['Not Occupied', 'Occupied']\n",
    "cm = confusion_matrix(y_test, pred_test)\n",
    "print(cm)\n",
    "fig = plt.figure()\n",
    "ax = fig.add_subplot(111)\n",
    "cax = ax.matshow(cm)\n",
    "plt.title('Confusion matrix of the model using test data')\n",
    "fig.colorbar(cax)\n",
    "ax.set_xticklabels([''] + labels)\n",
    "ax.set_yticklabels([''] + labels)\n",
    "plt.xlabel('Predicted Value')\n",
    "plt.ylabel('True Value')\n",
    "plt.show()"
   ]
  },
  {
   "cell_type": "code",
   "execution_count": 36,
   "id": "4b82b2eb",
   "metadata": {},
   "outputs": [
    {
     "data": {
      "image/png": "[encoded data removed]",
      "text/plain": [
       "<Figure size 432x288 with 1 Axes>"
      ]
     },
     "metadata": {
      "needs_background": "light"
     },
     "output_type": "display_data"
    }
   ],
   "source": [
    "# model training visualization\n",
    "loss = history.history['loss']\n",
    "accuracy = history.history['Accuracy']\n",
    "precision = history.history['precision']\n",
    "recall = history.history['recall']\n",
    "epochs = range(1,11)\n",
    "plt.plot(epochs, loss, 'g', label='Training loss')\n",
    "plt.plot(epochs, accuracy, 'b', label='Accuracy')\n",
    "plt.title('Model Training')\n",
    "plt.xlabel('Epochs')\n",
    "plt.ylabel('Loss')\n",
    "plt.legend()\n",
    "plt.show()"
   ]
  },
  {
   "cell_type": "markdown",
   "id": "c2e9cee7",
   "metadata": {},
   "source": [
    "# Model number 2"
   ]
  },
  {
   "cell_type": "code",
   "execution_count": 47,
   "id": "3bcb27d0",
   "metadata": {},
   "outputs": [],
   "source": [
    "# specifying the structure of neural network.\n",
    "model = Sequential(name=\"Model-Input\") # Model\n",
    "model.add(Input(shape=(5,), name='Input-Layer')) # Input Layer - need to speicfy the shape of inputs\n",
    "model.add(Dense(4, activation='softplus', name='Hidden-Layer-1')) # Hidden Layer, softplus(x) = log(exp(x) + 1)\n",
    "model.add(Dense(3, activation='softplus', name='Hidden-Layer-2'))\n",
    "model.add(Dense(2, activation='softplus', name='Hidden-Layer-3'))\n",
    "model.add(Dense(1, activation='sigmoid', name='Output-Layer')) # Output Layer, sigmoid(x) = 1 / (1 + exp(-x))"
   ]
  },
  {
   "cell_type": "code",
   "execution_count": 48,
   "id": "ddd07b5a",
   "metadata": {},
   "outputs": [],
   "source": [
    "# Compiling model\n",
    "model.compile(optimizer='adam', # default='rmsprop', an algorithm to be used in backpropagation\n",
    "              loss='binary_crossentropy', # Loss function to be optimized. A string (name of loss function), or a tf.keras.losses.Loss instance.\n",
    "              metrics=['Accuracy'], # List of metrics to be evaluated by the model during training and testing. Each of this can be a string (name of a built-in function), function or a tf.keras.metrics.Metric instance. \n",
    "             )"
   ]
  },
  {
   "cell_type": "code",
   "execution_count": 49,
   "id": "f933b476",
   "metadata": {},
   "outputs": [
    {
     "name": "stdout",
     "output_type": "stream",
     "text": [
      "Epoch 1/10\n",
      "1440/1440 [==============================] - 1s 734us/step - loss: 1.9393 - Accuracy: 0.8924\n",
      "Epoch 2/10\n",
      "1440/1440 [==============================] - 1s 761us/step - loss: 0.1402 - Accuracy: 0.9427\n",
      "Epoch 3/10\n",
      "1440/1440 [==============================] - 1s 704us/step - loss: 0.1252 - Accuracy: 0.9479\n",
      "Epoch 4/10\n",
      "1440/1440 [==============================] - 1s 693us/step - loss: 0.1147 - Accuracy: 0.9530\n",
      "Epoch 5/10\n",
      "1440/1440 [==============================] - 1s 679us/step - loss: 0.1025 - Accuracy: 0.9606\n",
      "Epoch 6/10\n",
      "1440/1440 [==============================] - 1s 679us/step - loss: 0.0890 - Accuracy: 0.9687\n",
      "Epoch 7/10\n",
      "1440/1440 [==============================] - 1s 679us/step - loss: 0.0727 - Accuracy: 0.9811\n",
      "Epoch 8/10\n",
      "1440/1440 [==============================] - 1s 687us/step - loss: 0.0694 - Accuracy: 0.9844\n",
      "Epoch 9/10\n",
      "1440/1440 [==============================] - 1s 697us/step - loss: 0.0689 - Accuracy: 0.9842\n",
      "Epoch 10/10\n",
      "1440/1440 [==============================] - 1s 686us/step - loss: 0.0679 - Accuracy: 0.9844\n"
     ]
    }
   ],
   "source": [
    "# Training model using training data\n",
    "history = model.fit(X_train, y_train, batch_size=10, epochs=10, shuffle=True)"
   ]
  },
  {
   "cell_type": "code",
   "execution_count": 50,
   "id": "ff4d2153",
   "metadata": {},
   "outputs": [],
   "source": [
    "# Making predictions.\n",
    "pred_train = (model.predict(X_train) > 0.5).astype(int) # using training data\n",
    "pred_test = (model.predict(X_test) > 0.5).astype(int) # using testing data"
   ]
  },
  {
   "cell_type": "markdown",
   "id": "de422f06",
   "metadata": {},
   "source": [
    "# Model Performance"
   ]
  },
  {
   "cell_type": "code",
   "execution_count": 51,
   "id": "2a03bf54",
   "metadata": {},
   "outputs": [
    {
     "name": "stdout",
     "output_type": "stream",
     "text": [
      "Model: \"Model-Input\"\n",
      "_________________________________________________________________\n",
      " Layer (type)                Output Shape              Param #   \n",
      "=================================================================\n",
      " Hidden-Layer-1 (Dense)      (None, 4)                 24        \n",
      "                                                                 \n",
      " Hidden-Layer-2 (Dense)      (None, 3)                 15        \n",
      "                                                                 \n",
      " Hidden-Layer-3 (Dense)      (None, 2)                 8         \n",
      "                                                                 \n",
      " Output-Layer (Dense)        (None, 1)                 3         \n",
      "                                                                 \n",
      "=================================================================\n",
      "Total params: 50\n",
      "Trainable params: 50\n",
      "Non-trainable params: 0\n",
      "_________________________________________________________________\n"
     ]
    }
   ],
   "source": [
    "# model summary\n",
    "model.summary()"
   ]
  },
  {
   "cell_type": "code",
   "execution_count": 52,
   "id": "1426bdb3",
   "metadata": {},
   "outputs": [
    {
     "name": "stdout",
     "output_type": "stream",
     "text": [
      "Layer:  Hidden-Layer-1\n",
      "  --Kernels (Weights):  [[ 1.9910152  -1.057618    0.7110765  -0.13331692]\n",
      " [ 0.15966947 -0.24847108  0.7871444  -0.08585906]\n",
      " [-0.17655951 -0.0536657  -0.27496755  0.1653819 ]\n",
      " [ 0.10771142  0.49435535 -0.20168263 -0.58051896]\n",
      " [ 1.1277553  -0.3200541   0.26612282 -0.7172345 ]]\n",
      "  --Biases:  [ 1.8360885e+00 -9.9931628e-01  1.1846325e-18 -1.4753973e-01]\n",
      "Layer:  Hidden-Layer-2\n",
      "  --Kernels (Weights):  [[ 0.44252393 -0.8097353  -0.72086203]\n",
      " [ 0.41234776  0.14053956  0.3278782 ]\n",
      " [ 0.37512064  0.09325647 -0.7412258 ]\n",
      " [-0.646255   -0.8051801  -0.1392173 ]]\n",
      "  --Biases:  [ 0.54327786  1.3090916  -1.5142775 ]\n",
      "Layer:  Hidden-Layer-3\n",
      "  --Kernels (Weights):  [[ 1.1450447   0.96071243]\n",
      " [ 1.0494394  -0.10012797]\n",
      " [-0.8749008   0.5356473 ]]\n",
      "  --Biases:  [ 1.753157  -1.4773035]\n",
      "Layer:  Output-Layer\n",
      "  --Kernels (Weights):  [[-0.15249175]\n",
      " [ 0.12991226]]\n",
      "  --Biases:  [-1.5755627]\n"
     ]
    }
   ],
   "source": [
    "# Weights and Biases\n",
    "for layer in model.layers:\n",
    "    print(\"Layer: \", layer.name) # print layer name\n",
    "    print(\"  --Kernels (Weights): \", layer.get_weights()[0]) # weights\n",
    "    print(\"  --Biases: \", layer.get_weights()[1]) # biases"
   ]
  },
  {
   "cell_type": "code",
   "execution_count": 53,
   "id": "feef4ae4",
   "metadata": {},
   "outputs": [
    {
     "name": "stdout",
     "output_type": "stream",
     "text": [
      "              precision    recall  f1-score   support\n",
      "\n",
      "         0.0       1.00      0.98      0.99     10739\n",
      "         1.0       0.96      1.00      0.98      3653\n",
      "\n",
      "    accuracy                           0.99     14392\n",
      "   macro avg       0.98      0.99      0.98     14392\n",
      "weighted avg       0.99      0.99      0.99     14392\n",
      "\n"
     ]
    }
   ],
   "source": [
    "# Evaluation on training data\n",
    "print(classification_report(y_train, pred_train))"
   ]
  },
  {
   "cell_type": "code",
   "execution_count": 54,
   "id": "48e91fe0",
   "metadata": {},
   "outputs": [
    {
     "name": "stdout",
     "output_type": "stream",
     "text": [
      "              precision    recall  f1-score   support\n",
      "\n",
      "         0.0       1.00      0.99      1.00      5071\n",
      "         1.0       0.96      1.00      0.98      1097\n",
      "\n",
      "    accuracy                           0.99      6168\n",
      "   macro avg       0.98      1.00      0.99      6168\n",
      "weighted avg       0.99      0.99      0.99      6168\n",
      "\n"
     ]
    }
   ],
   "source": [
    "# Evaluation on testing data\n",
    "print(classification_report(y_test, pred_test))"
   ]
  },
  {
   "cell_type": "code",
   "execution_count": 55,
   "id": "7707bf7c",
   "metadata": {},
   "outputs": [
    {
     "data": {
      "image/png": "[encoded data removed]",
      "text/plain": [
       "<Figure size 432x288 with 1 Axes>"
      ]
     },
     "metadata": {
      "needs_background": "light"
     },
     "output_type": "display_data"
    }
   ],
   "source": [
    "# Training visualization\n",
    "loss = history.history['loss']\n",
    "accuracy = history.history['Accuracy']\n",
    "epochs = range(1,11)\n",
    "plt.plot(epochs, loss, 'g', label='Training loss')\n",
    "plt.plot(epochs, accuracy, 'b', label='Accuracy')\n",
    "plt.title('Model Training')\n",
    "plt.xlabel('Epochs')\n",
    "plt.ylabel('Loss')\n",
    "plt.legend()\n",
    "plt.show()"
   ]
  },
  {
   "cell_type": "code",
   "execution_count": 56,
   "id": "1730827c",
   "metadata": {},
   "outputs": [
    {
     "name": "stdout",
     "output_type": "stream",
     "text": [
      "[[5027   44]\n",
      " [   1 1096]]\n"
     ]
    },
    {
     "name": "stderr",
     "output_type": "stream",
     "text": [
      "/tmp/ipykernel_17665/3397541056.py:10: UserWarning: FixedFormatter should only be used together with FixedLocator\n",
      "  ax.set_xticklabels([''] + labels)\n",
      "/tmp/ipykernel_17665/3397541056.py:11: UserWarning: FixedFormatter should only be used together with FixedLocator\n",
      "  ax.set_yticklabels([''] + labels)\n"
     ]
    },
    {
     "data": {
      "image/png": "[encoded data removed]",
      "text/plain": [
       "<Figure size 432x288 with 2 Axes>"
      ]
     },
     "metadata": {
      "needs_background": "light"
     },
     "output_type": "display_data"
    }
   ],
   "source": [
    "# Confusion matrix\n",
    "labels = ['Not Occupied', 'Occupied']\n",
    "cm = confusion_matrix(y_test, pred_test)\n",
    "print(cm)\n",
    "fig = plt.figure()\n",
    "ax = fig.add_subplot(111)\n",
    "cax = ax.matshow(cm)\n",
    "plt.title('Confusion matrix of the model using test data')\n",
    "fig.colorbar(cax)\n",
    "ax.set_xticklabels([''] + labels)\n",
    "ax.set_yticklabels([''] + labels)\n",
    "plt.xlabel('Predicted Value')\n",
    "plt.ylabel('True Value')\n",
    "plt.show()"
   ]
  }
 ],
 "metadata": {
  "kernelspec": {
   "display_name": "Python 3 (ipykernel)",
   "language": "python",
   "name": "python3"
  },
  "language_info": {
   "codemirror_mode": {
    "name": "ipython",
    "version": 3
   },
   "file_extension": ".py",
   "mimetype": "text/x-python",
   "name": "python",
   "nbconvert_exporter": "python",
   "pygments_lexer": "ipython3",
   "version": "3.8.10"
  }
 },
 "nbformat": 4,
 "nbformat_minor": 5
}
